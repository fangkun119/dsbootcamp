{
 "cells": [
  {
   "cell_type": "markdown",
   "metadata": {},
   "source": [
    "# Case 01：纸牌游戏的获胜概率\n",
    "\n",
    "Case 01游戏规则：\n",
    "\n",
    "> 52张纸牌、一半红牌一半黑牌。</br>\n",
    "> 每一轮游戏中：</br>\n",
    "> (1) 洗牌，洗牌之后牌背面向上</br>\n",
    "> (2) 对方一次翻开一张牌，我方可以决定是否停止。</br>\n",
    "> (3) 当我方喊停后，对方最后一次翻牌：翻开的牌是红色，我方赢1美元；翻开的牌是黑色，我方输1美元。</br>\n",
    "> 结算筹码后游戏进入下一轮</br>\n",
    "\n",
    "该游戏可以玩任意多轮，我方的最佳策略是什么？\n",
    "\n",
    "Case 01 共包含4个章节，对应于书中的4章\n",
    "\n",
    "1 使用采样空间分析来计算观察事件的概率\n",
    "\n",
    "> Compute the probabilities of observable events using sample space analysis.\n",
    "\n",
    "2 概率可视化\n",
    "\n",
    "> Plot the probabilities of events across a range of interval values (区间值).\n",
    "\n",
    "3 使用Python模拟随机事件\n",
    "\n",
    "> Simulate random processes, such as coin-flips and card shuffling, using Python.\n",
    "\n",
    "4 估算模拟事件的置信区间\n",
    "\n",
    "> Evaluate our confidence in decisions drawn from simulations using confidence interval analysis.\n"
   ]
  },
  {
   "cell_type": "markdown",
   "metadata": {},
   "source": [
    "# 1. Computing Probabilities Using Python\n",
    "\n",
    "> 使用`概率论`在不确定性中寻找可预测的事件\n",
    "\n",
    "## 1.1. Sample Space Analysis: An Equation-Free Approach for Measuring Uncertainty in Outcomes"
   ]
  },
  {
   "cell_type": "markdown",
   "metadata": {},
   "source": [
    "A coin-flip will produce one of 2 measurable outcomes: `'Heads'` or `'Tails'`. By storing outcomes in a Python set, we can create a **sample space** of coin-flips.\n",
    "\n",
    "> `样本空间（sample space）`：样本所有可能的取值。以`抛硬币`为例，采样空间包括了`正面向上`、`背面向上`<br/>\n",
    "\n",
    "**Listing 1. 1. Creating a Sample Space of Coin-Flips**"
   ]
  },
  {
   "cell_type": "code",
   "execution_count": 1,
   "metadata": {},
   "outputs": [],
   "source": [
    "sample_space = {'Heads', 'Tails'}"
   ]
  },
  {
   "cell_type": "markdown",
   "metadata": {},
   "source": [
    "Suppose we choose an element of sample_space at random. All outcomes within `sample_space` share an identical probability, which is equal to `1 / len(sample_space)`.\n",
    "\n",
    "> 假定抛硬币结果是无偏的，那么`正面向上`，`背面向上`的概率都是相等的\n",
    "\n",
    "**Listing 1. 2. Computing the probability of heads**\n",
    "\n",
    "> 计算`正面向上`的概率"
   ]
  },
  {
   "cell_type": "code",
   "execution_count": 2,
   "metadata": {},
   "outputs": [
    {
     "name": "stdout",
     "output_type": "stream",
     "text": [
      "Probability of choosing heads is 0.5\n"
     ]
    }
   ],
   "source": [
    "probability_heads = 1 / len(sample_space)\n",
    "print(f'Probability of choosing heads is {probability_heads}')"
   ]
  },
  {
   "cell_type": "markdown",
   "metadata": {},
   "source": [
    "**Listing 1. 3  & 1.4. Defining event conditions, Defining additioning event conditions**\n",
    "\n",
    "The probability of choosing `'Heads'` equals 0.5. What is the probability that the coin lands on either heads or on\n",
    "tails? To find rigorous answers, we’ll need to define the\n",
    "concept of an **event**. An event is the subset of those elements within sample_space that\n",
    "satisfy some event condition. An **event condition** is a simple Boolean function whose input\n",
    "is a single sample_space element. \n",
    "\n",
    "> 下面列出所有的4种`事件条件`（`Event Condition`）判断函数\n",
    "> * 正面向上或背面向上\n",
    "> * 既不是正面向上、也不是背面向上\n",
    "> * 正面向上\n",
    "> * 背面向上"
   ]
  },
  {
   "cell_type": "code",
   "execution_count": 3,
   "metadata": {},
   "outputs": [],
   "source": [
    "def is_heads_or_tails(outcome):  return outcome in {'Heads', 'Tails'}\n",
    "def is_neither(outcome): return not is_heads_or_tails(outcome)\n",
    "def is_heads(outcome): return outcome == 'Heads'\n",
    "def is_tails(outcome): return outcome == 'Tails'"
   ]
  },
  {
   "cell_type": "markdown",
   "metadata": {},
   "source": [
    "**Listing 1. 5. Defining an event detection function**\n",
    "We can pass event conditions into a generalized `get_events function`. The\n",
    "function iterates through `generic_sample_space` and returns the set of outcomes where\n",
    "`event_condition(outcome)` is `True`.\n",
    "\n",
    "> 定义函数`get_event`，用来一个样本，会满足哪些`事件条件`"
   ]
  },
  {
   "cell_type": "code",
   "execution_count": 4,
   "metadata": {},
   "outputs": [],
   "source": [
    "def get_event(event_condition, generic_sample_space):\n",
    "    return set([outcome for outcome in generic_sample_space \n",
    "                if event_condition(outcome)])"
   ]
  },
  {
   "cell_type": "markdown",
   "metadata": {},
   "source": [
    "**Listing 1. 6. Detecting events using event conditions**\n",
    "\n",
    "Lets execute get_event on our 4 event conditions.\n",
    "\n",
    "> 执行上面的函数，计算`采样空间`的哪些取值，会满足指定的`事件条件`"
   ]
  },
  {
   "cell_type": "code",
   "execution_count": 5,
   "metadata": {},
   "outputs": [
    {
     "name": "stdout",
     "output_type": "stream",
     "text": [
      "Event Condition: is_heads_or_tails\n",
      "Event: {'Heads', 'Tails'}\n",
      "\n",
      "Event Condition: is_heads\n",
      "Event: {'Heads'}\n",
      "\n",
      "Event Condition: is_tails\n",
      "Event: {'Tails'}\n",
      "\n",
      "Event Condition: is_neither\n",
      "Event: set()\n",
      "\n"
     ]
    }
   ],
   "source": [
    "event_conditions = [is_heads_or_tails, is_heads, is_tails, is_neither]\n",
    "\n",
    "for event_condition in event_conditions: \n",
    "    print(f\"Event Condition: {event_condition.__name__}\")\n",
    "    event = get_event(event_condition, sample_space)\n",
    "    print(f'Event: {event}\\n')"
   ]
  },
  {
   "cell_type": "markdown",
   "metadata": {},
   "source": [
    "**Listing 1. 7. Computing event probabilities**\n",
    "\n",
    "We’ve successfully extracted 4 events from `sample_space`. The probability of each event is equal to `len(event) / len(sample_space)`.\n",
    "\n",
    "> 计算每个`事件条件`被满足的概率，"
   ]
  },
  {
   "cell_type": "code",
   "execution_count": 6,
   "metadata": {},
   "outputs": [
    {
     "name": "stdout",
     "output_type": "stream",
     "text": [
      "Probability of event arising from 'is_heads_or_tails' is 1.0\n",
      "Probability of event arising from 'is_heads' is 0.5\n",
      "Probability of event arising from 'is_tails' is 0.5\n",
      "Probability of event arising from 'is_neither' is 0.0\n"
     ]
    }
   ],
   "source": [
    "def compute_probability(event_condition, generic_sample_space):\n",
    "    event = get_event(event_condition, generic_sample_space)\n",
    "    return len(event) / len(generic_sample_space)\n",
    "\n",
    "for event_condition in event_conditions: \n",
    "    prob = compute_probability(event_condition, sample_space)\n",
    "    name = event_condition.__name__\n",
    "    print(f\"Probability of event arising from '{name}' is {prob}\")"
   ]
  },
  {
   "cell_type": "markdown",
   "metadata": {},
   "source": [
    "### 1.1.1. Analyzing a Biased Coin\n",
    "\n",
    "**Listing 1. 8. Representing a weighted sample space**\n",
    "\n",
    "Suppose a coin is 4 times more likely to land on heads relative to tails. We can represent that coin as a weighted sample space.\n",
    "\n",
    "> 之前的章节，抛硬币事件是无偏的（正反面概率相同），现在假设其是有偏的，正面反面概率比例是4:1"
   ]
  },
  {
   "cell_type": "code",
   "execution_count": 7,
   "metadata": {},
   "outputs": [],
   "source": [
    "weighted_sample_space = {'Heads': 4, 'Tails': 1}"
   ]
  },
  {
   "cell_type": "markdown",
   "metadata": {},
   "source": [
    "**Listing 1. 9. Checking the weighted sample space size**\n",
    "\n",
    "Our new sample space is stored within a dictionary. We can redefine sample-space size as the sum of all dictionary weights.\n",
    "\n",
    "> 两个事件（正面、反面）的权重之和是5"
   ]
  },
  {
   "cell_type": "code",
   "execution_count": 8,
   "metadata": {},
   "outputs": [],
   "source": [
    "sample_space_size = sum(weighted_sample_space.values())\n",
    "assert sample_space_size == 5"
   ]
  },
  {
   "cell_type": "markdown",
   "metadata": {},
   "source": [
    "**Listing 1. 10. Checking the weighted event size**\n",
    "\n",
    "We can redefine event size in similar manner. Each event is a set of outcomes. These outcomes map to weights. Summing over these weights will yield the event size.\n",
    "\n",
    "> 计算一个事件条件（Event Condition）所覆盖的事件（Event）的权重之和"
   ]
  },
  {
   "cell_type": "code",
   "execution_count": 9,
   "metadata": {},
   "outputs": [],
   "source": [
    "event = get_event(is_heads_or_tails, weighted_sample_space)\n",
    "event_size = sum(weighted_sample_space[outcome] for outcome in event)\n",
    "assert event_size == 5"
   ]
  },
  {
   "cell_type": "markdown",
   "metadata": {},
   "source": [
    "**Listing 1. 11. Defining a generalized event probability function**\n",
    "\n",
    "Our generalized definitions of sample-space size and event size permit us to create a `compute_event_probability` function.\n",
    "\n",
    "> 定义一个函数<b>`compute_event_probability`</b>，来计算一个 `事件条件`（`Event Condition`）被满足的概率：\n",
    ">\n",
    "> * 如果事件概率是无偏估计（`generic_sample_space`的类型为`set`），仍延续上一小节`compute_probability`的方法，即`满足条件的事件数`除以`总事件数`</br>\n",
    "> * 如果事件概率是有偏估计（`generic_sample_space`的类型为`map`，value是权重），使用`满足条件事件的权重之和`除以`总事件权重之和`</br>\n",
    "> \n",
    "> 这个函数是接下来章节的基础"
   ]
  },
  {
   "cell_type": "code",
   "execution_count": 10,
   "metadata": {},
   "outputs": [],
   "source": [
    "def compute_event_probability(event_condition, generic_sample_space):\n",
    "    event = get_event(event_condition, generic_sample_space)\n",
    "    if type(generic_sample_space) == type(set()):\n",
    "        return len(event) / len(generic_sample_space)\n",
    "    \n",
    "    event_size = sum(generic_sample_space[outcome] \n",
    "                     for outcome in event)\n",
    "    return event_size / sum(generic_sample_space.values())"
   ]
  },
  {
   "cell_type": "markdown",
   "metadata": {},
   "source": [
    "**Listing 1. 12. Computing weighted event probabilities**\n",
    "\n",
    "We can now output all the event probabilities for the biased coin without needing to redefine our 4 event condition functions.\n",
    "\n",
    "> 输出所有`事件条件`（Event Condition）被满足的概率"
   ]
  },
  {
   "cell_type": "code",
   "execution_count": 11,
   "metadata": {},
   "outputs": [
    {
     "name": "stdout",
     "output_type": "stream",
     "text": [
      "Probability of event arising from 'is_heads_or_tails' is 1.0\n",
      "Probability of event arising from 'is_heads' is 0.8\n",
      "Probability of event arising from 'is_tails' is 0.2\n",
      "Probability of event arising from 'is_neither' is 0.0\n"
     ]
    }
   ],
   "source": [
    "for event_condition in event_conditions: \n",
    "    prob = compute_event_probability(event_condition, weighted_sample_space)\n",
    "    name = event_condition.__name__\n",
    "    print(f\"Probability of event arising from '{name}' is {prob}\")"
   ]
  },
  {
   "cell_type": "markdown",
   "metadata": {},
   "source": [
    "## 1.2. Computing Non-Trivial Probabilities\n",
    "\n",
    "> 本节用上面在`事件`概率均等、或不均等的情况下，计算`事件条件`被满足概率的函数`compute_event_probability()`来分析几个更复杂的问题\n",
    "\n",
    "### 1.2.1. Problem 1: Analyzing a Family with 4 Children\n",
    "Suppose a family has 4 children. What is the probability that exactly 2 of the children are\n",
    "boys? We’ll find solve this by constructing an unweighted sample space where each outcome is a 4-element tuple\n",
    "representing one possible sequence of 4 children.\n",
    "\n",
    "> 问题1：4个小孩，刚好有2个男孩的概率\n",
    "\n",
    "**Listing 1. 13. Computing the sample space of children**\n",
    "\n",
    "> 假设`样本空间`各个事件概率均等，下面的代码列出来四个小孩各种性别组合的发生的概率"
   ]
  },
  {
   "cell_type": "code",
   "execution_count": 12,
   "metadata": {},
   "outputs": [],
   "source": [
    "# 代码由4重嵌套的循环组成\n",
    "possible_children = ['Boy', 'Girl']\n",
    "sample_space = set()\n",
    "for child1 in possible_children:\n",
    "    for child2 in possible_children:\n",
    "        for child3 in possible_children:\n",
    "            for child4 in possible_children:\n",
    "                outcome = (child1, child2, child3, child4)\n",
    "                sample_space.add(outcome)"
   ]
  },
  {
   "cell_type": "markdown",
   "metadata": {},
   "source": [
    "**Listing 1. 14. Computing the sample space using `product`**\n",
    "\n",
    "We ran 4 nested for-loops to explore the sequence of 4 births. This is not an efficient use of\n",
    "code. We can more easily generate our sample space using Python’s build-in `itertools.product` function.\n",
    "\n",
    "> 用`itertools`替代4重嵌套循环，得到相同的结果"
   ]
  },
  {
   "cell_type": "code",
   "execution_count": 13,
   "metadata": {},
   "outputs": [],
   "source": [
    "# 用`itertools.product`替代4重嵌套循环，得到相同的结果\n",
    "from itertools import product\n",
    "all_combinations = product(*(4 * [possible_children]))\n",
    "assert set(all_combinations) == sample_space"
   ]
  },
  {
   "cell_type": "markdown",
   "metadata": {},
   "source": [
    "**Listing 1. 15. Passing `repeat` into `product`**\n",
    "\n",
    "We can make our code even more efficient by executing `set(product(possible_children, repeat=4))`.\n",
    "\n",
    "> 用更effiction的方法来使用`itertools.product`，得到相同的结果"
   ]
  },
  {
   "cell_type": "code",
   "execution_count": 14,
   "metadata": {},
   "outputs": [],
   "source": [
    "# 用更effiction的方法来使用`itertools.product`，得到相同的结果\n",
    "sample_space_efficient = set(product(possible_children, repeat=4))\n",
    "assert sample_space == sample_space_efficient"
   ]
  },
  {
   "cell_type": "markdown",
   "metadata": {},
   "source": [
    "Lets calculate the fraction of `sample_space` that is composed of families with 2 boys.\n",
    "\n",
    "**Listing 1. 16. Computing the probability of 2 boys**\n",
    "\n",
    "> 计算4个小孩中有2个是男孩的概率"
   ]
  },
  {
   "cell_type": "code",
   "execution_count": 15,
   "metadata": {},
   "outputs": [
    {
     "name": "stdout",
     "output_type": "stream",
     "text": [
      "Probability of 2 boys is 0.375\n"
     ]
    }
   ],
   "source": [
    "# Event Condition：has_two_boys(outcome)，4个小孩中有2个是男孩的概率\n",
    "# outcome：4个小孩的请别，是一个长度为4的数组\n",
    "def has_two_boys(outcome): \n",
    "    return len([child for child in outcome if child == 'Boy']) == 2\n",
    "\n",
    "# sample_space：4个小孩各种性别的组合，其中每一种组合都会传给`has_two_boys`来判断该组合是否满足`Event Condition`\n",
    "prob = compute_event_probability(has_two_boys, sample_space)\n",
    "print(f\"Probability of 2 boys is {prob}\")"
   ]
  },
  {
   "cell_type": "markdown",
   "metadata": {},
   "source": [
    "### 1.2.2. Problem 2: Analyzing Multiple Dice Rolls\n",
    "Suppose a die is rolled 6 times. What is the probability that these 6 dice-rolls add up to 21? We’ll begin by defining the possible values of any single roll.\n",
    "\n",
    "> 问题2：1个6面骰子，一共投掷6次，得到的总的点数和为21的概率\n",
    "\n",
    "**Listing 1. 17. Defining all possible rolls of a six-sided die**\n",
    "\n",
    "> 单次投掷的样本空间：[1,2,3,4,5,6]"
   ]
  },
  {
   "cell_type": "code",
   "execution_count": 16,
   "metadata": {},
   "outputs": [
    {
     "name": "stdout",
     "output_type": "stream",
     "text": [
      "[1, 2, 3, 4, 5, 6]\n"
     ]
    }
   ],
   "source": [
    "possible_rolls = list(range(1, 7))\n",
    "print(possible_rolls)"
   ]
  },
  {
   "cell_type": "markdown",
   "metadata": {},
   "source": [
    "**Listing 1. 18. The sample space for 6 consecutive dice rolls**\n",
    "\n",
    "Next, we’ll create the sample space for 6 consecutive rolls.\n",
    "\n",
    "> 6次投掷的样本空间"
   ]
  },
  {
   "cell_type": "code",
   "execution_count": 17,
   "metadata": {},
   "outputs": [],
   "source": [
    "sample_space = set(product(possible_rolls, repeat=6))"
   ]
  },
  {
   "cell_type": "markdown",
   "metadata": {},
   "source": [
    "**Listing 1. 19. Computing the probability of a dice-roll sum**\n",
    "\n",
    "Finally, we’ll define a has_sum_of_21 event condition that we’ll subsequently pass into `compute_event_probability`.\n",
    "\n",
    "> `has_sum_of_21`：6次投掷、点数和为21的`事件条件`，函数参数`outcome`为样本空间中的1个样本即1组6次投掷<br/>\n",
    "> `compute_event_probability(has_sum_of_21, sample_space)`：该`事件条件`被满足的概率<br/>"
   ]
  },
  {
   "cell_type": "code",
   "execution_count": 18,
   "metadata": {},
   "outputs": [
    {
     "name": "stdout",
     "output_type": "stream",
     "text": [
      "Probability of dice summing to 21 is 0.09284979423868313\n"
     ]
    }
   ],
   "source": [
    "def has_sum_of_21(outcome): \n",
    "    return sum(outcome) == 21\n",
    "\n",
    "prob = compute_event_probability(has_sum_of_21, sample_space)\n",
    "print(f\"Probability of dice summing to 21 is {prob}\")"
   ]
  },
  {
   "cell_type": "markdown",
   "metadata": {},
   "source": [
    "**Listing 1. 20. Computing the probability using a lambda expression**\n",
    "\n",
    "The above analysis can be executed in a single line of code, using Lambda expressions.\n",
    "\n",
    "> 用Lambda表达式来定义`事件条件`函数，可以得到相同的结果"
   ]
  },
  {
   "cell_type": "code",
   "execution_count": 19,
   "metadata": {},
   "outputs": [],
   "source": [
    "prob = compute_event_probability(lambda x: sum(x) == 21, sample_space) \n",
    "assert prob == compute_event_probability(has_sum_of_21, sample_space)"
   ]
  },
  {
   "cell_type": "markdown",
   "metadata": {},
   "source": [
    "### 1.2.3. Problem 3: Computing Dice-Roll Probabilities using Weighted Sample Spaces\n",
    "We’ve just computed the likelihood of 6 rolled dice summing to 21. Now, lets recompute\n",
    "that probability using a weighted sample space. By mapping the dice-roll sums to their occurrence counts, we will produce a `weighted_sample_space result`.\n",
    "\n",
    "> <b>问题3</b>：仍然是在投掷筛子概率均等的情况下，计算6次投掷，总点数为21的概率，但会换一种方法，使用`Weighted Sample Spaces`来计算从而减少内存使用量\n",
    "\n",
    "**Listing 1. 21. Mapping dice-roll sums to ocurrence counts**"
   ]
  },
  {
   "cell_type": "code",
   "execution_count": 20,
   "metadata": {},
   "outputs": [],
   "source": [
    "# outcome是投掷6次骰子后各个骰子点数组合的样本空间，样本量大（组合数众多）\n",
    "# weighted_sample_space是骰子投掷6次后，总点数=N的样本空间，样本量较小（N的取值范围小）\n",
    "from collections import defaultdict\n",
    "weighted_sample_space = defaultdict(int)\n",
    "for outcome in sample_space:\n",
    "    total = sum(outcome)\n",
    "    weighted_sample_space[total] += 1"
   ]
  },
  {
   "cell_type": "markdown",
   "metadata": {},
   "source": [
    "**Listing 1. 22. Checking very rare dice-roll combinations**\n",
    "\n",
    "Not all weights in `weighted_sample_space` are equal. Some of the weights are much smaller than others. For instance, there is only one way for the dice to sum to 6.\n",
    "\n",
    "> 之所以说它是`weighted_sample_space`，是因为不同的N，权重（除以总权重之和为发生概率）不同"
   ]
  },
  {
   "cell_type": "code",
   "execution_count": 21,
   "metadata": {},
   "outputs": [],
   "source": [
    "assert weighted_sample_space[6] == 1\n",
    "assert weighted_sample_space[36] == 1"
   ]
  },
  {
   "cell_type": "markdown",
   "metadata": {},
   "source": [
    "**Listing 1. 23. Checking a more common dice-roll combination**\n",
    "\n",
    "Meanwhile, the value of `weighted_sample_space[21]` is noticeably higher.\n",
    "\n",
    "> 下面是筛子点数之和为21的，这个事件条件的权重，为4332；比起点数之和为6的权重1高出很多"
   ]
  },
  {
   "cell_type": "code",
   "execution_count": 22,
   "metadata": {},
   "outputs": [
    {
     "name": "stdout",
     "output_type": "stream",
     "text": [
      "There are 4332 ways for six rolled dice to sum to 21\n"
     ]
    }
   ],
   "source": [
    "num_combinations = weighted_sample_space[21]\n",
    "print(f\"There are {num_combinations } ways for six rolled dice to sum to 21\")"
   ]
  },
  {
   "cell_type": "markdown",
   "metadata": {},
   "source": [
    "**Listing 1. 24. Exploring different ways of summing to 21**\n",
    "\n",
    "There are 4332 ways for 6 rolled dice to sum to 21. This is why a sum of 21 is much more probable than a sum of 6.\n",
    "\n",
    "> 如何理解21的权重会高，下面的演示可以看出"
   ]
  },
  {
   "cell_type": "code",
   "execution_count": 23,
   "metadata": {},
   "outputs": [],
   "source": [
    "assert sum([4, 4, 4, 4, 3, 2]) == 21\n",
    "assert sum([4, 4, 4, 5, 3, 1]) == 21 "
   ]
  },
  {
   "cell_type": "markdown",
   "metadata": {},
   "source": [
    "**Listing 1. 25. Comparing weighted events and regular events**\n",
    "\n",
    "The observed count of 4332 is equal to the length of an unweighted event whose dice-rolls add up to 21. Hence, there exists a direct link between unweighted and\n",
    "weighted event probability computation.\n",
    "\n",
    "> 在骰子投掷6次后，各种点数组合这个无权重的样本空间上，计算点数之和=21的概率，即上一小节的方法"
   ]
  },
  {
   "cell_type": "code",
   "execution_count": 24,
   "metadata": {},
   "outputs": [],
   "source": [
    "event = get_event(lambda x: sum(x) == 21, sample_space)\n",
    "assert weighted_sample_space[21] == len(event)\n",
    "assert sum(weighted_sample_space.values()) == len(sample_space)"
   ]
  },
  {
   "cell_type": "markdown",
   "metadata": {},
   "source": [
    "**Listing 1. 26. Computing the weighted event probability of dice rolls**\n",
    "\n",
    "The final probability of rolling a 21 should remain unchanged.\n",
    "\n",
    "> 在骰子投掷6次后，点数之和=N的这个带权重的样本空间上计算，点数之和=21的概率，得到相同的结果"
   ]
  },
  {
   "cell_type": "code",
   "execution_count": 25,
   "metadata": {},
   "outputs": [
    {
     "name": "stdout",
     "output_type": "stream",
     "text": [
      "Probability of dice summing to 21 is 0.09284979423868313\n"
     ]
    }
   ],
   "source": [
    "prob = compute_event_probability(lambda x: x == 21,  weighted_sample_space)\n",
    "assert prob == compute_event_probability(has_sum_of_21, sample_space)\n",
    "print(f\"Probability of dice summing to 21 is {prob}\")"
   ]
  },
  {
   "cell_type": "markdown",
   "metadata": {},
   "source": [
    "**Listing 1. 27. Comparing weighted to unweighted event space size**\n",
    "\n",
    "What is the benefit of using a weighted sample space over an unweighted one? Less\n",
    "memory usage!\n",
    "\n",
    "> 但是本章的方法，样本空间更小，更加节省内存"
   ]
  },
  {
   "cell_type": "code",
   "execution_count": 26,
   "metadata": {},
   "outputs": [
    {
     "name": "stdout",
     "output_type": "stream",
     "text": [
      "Number of Elements in Unweighted Sample Space:\n",
      "46656\n",
      "Number of Elements in Weighted Sample Space:\n",
      "31\n"
     ]
    }
   ],
   "source": [
    "print('Number of Elements in Unweighted Sample Space:')\n",
    "print(len(sample_space))\n",
    "print('Number of Elements in Weighted Sample Space:')\n",
    "print(len(weighted_sample_space))"
   ]
  },
  {
   "cell_type": "markdown",
   "metadata": {},
   "source": [
    "## 1.3. Computing Probabilities Over Interval Ranges\n",
    "An **interval** is the set of all the numbers that are sandwiched between 2 boundary cutoffs. Lets define an\n",
    "`is_in_interval` function that checks whether a number falls within a specified interval.\n",
    "\n",
    "> 计算数字落在某个`区间段`（`interval`）的概率\n",
    "\n",
    "**Listing 1. 28. Defining an interval function**"
   ]
  },
  {
   "cell_type": "code",
   "execution_count": 27,
   "metadata": {},
   "outputs": [],
   "source": [
    "# 用来判断数字是否落在指定的区间段的函数\n",
    "def is_in_interval(number, minimum, maximum):\n",
    "    return minimum <= number <= maximum"
   ]
  },
  {
   "cell_type": "markdown",
   "metadata": {},
   "source": [
    "**Listing 1. 29. Computing the probability over an interval**\n",
    "\n",
    "Given the `is_in_interval function`, we can compute the probability that an event’s\n",
    "associated value falls within some numeric range. Let’s compute the likelihood\n",
    "that our 6 consecutive dice-rolls sum up to a value between 10 and 21.\n",
    "\n",
    "> 仍然使用上一节投掷6次骰子、总点数=N的带权重的样本空间，计算N落在区间段[10,21]的概率"
   ]
  },
  {
   "cell_type": "code",
   "execution_count": 28,
   "metadata": {},
   "outputs": [
    {
     "name": "stdout",
     "output_type": "stream",
     "text": [
      "Probability of interval is 0.5446244855967078\n"
     ]
    }
   ],
   "source": [
    "prob = compute_event_probability(lambda x: is_in_interval(x, 10, 21), \n",
    "                                 weighted_sample_space)\n",
    "print(f\"Probability of interval is {prob}\")"
   ]
  },
  {
   "cell_type": "markdown",
   "metadata": {},
   "source": [
    "### 1.3.1. Evaluating Extremes Using Interval Analysis\n",
    "\n",
    "Suppose we observe 10 flips of an allegedly fair coin, and that coin lands on heads 8 out of 10 times. What is the probability that 10 fair coin-flips produce between 8 and 10 heads? To find out, we'll need the sample space for every possible sequence of 10 flipped coins.\n",
    "\n",
    "> 问题：加入一个声称正反面概率相等的抛硬币，抛了10次有8次正面朝上。我们希望知道，对于正反面概率相等的抛硬币事件，抛10次，正面向上落在[8,10]区间段的概率是多少\n",
    "\n",
    "**Listing 1. 30. Computing the sample space for 10 coin-flips**"
   ]
  },
  {
   "cell_type": "code",
   "execution_count": 29,
   "metadata": {},
   "outputs": [],
   "source": [
    "def generate_coin_sample_space(num_flips=10): \n",
    "    # 元素类型为int的字典\n",
    "    weighted_sample_space = defaultdict(int)\n",
    "    # 抛10次硬币，得到的各种正反面组合，对其进行遍历\n",
    "    for coin_flips in product(['Heads', 'Tails'], repeat=num_flips):\n",
    "        # 计算正面朝上的数量\n",
    "        heads_count = len([outcome for outcome in coin_flips\n",
    "                          if outcome == 'Heads']) \n",
    "        # 该数量出现的次数 ，即为其对应的权重\n",
    "        weighted_sample_space[heads_count] += 1\n",
    "    # 返回正面朝上次数=N的带权重样本空间\n",
    "    return weighted_sample_space\n",
    "\n",
    "weighted_sample_space = generate_coin_sample_space()\n",
    "assert weighted_sample_space[10] == 1\n",
    "assert weighted_sample_space[9] == 10"
   ]
  },
  {
   "cell_type": "markdown",
   "metadata": {},
   "source": [
    "**Listing 1. 31. Computing an extreme head-count probability**\n",
    "\n",
    "We’ll now compute the probability of observing an interval between 8 and 10 heads.\n",
    "\n",
    "> 接下来计算投掷10次硬币，正面朝上次数在[8,10]区间的概率"
   ]
  },
  {
   "cell_type": "code",
   "execution_count": 30,
   "metadata": {},
   "outputs": [
    {
     "name": "stdout",
     "output_type": "stream",
     "text": [
      "Probability of observing more than 7 heads is 0.0546875\n"
     ]
    }
   ],
   "source": [
    "prob = compute_event_probability(lambda x: is_in_interval(x, 8, 10),\n",
    "                                 weighted_sample_space)\n",
    "print(f\"Probability of observing more than 7 heads is {prob}\")"
   ]
  },
  {
   "cell_type": "markdown",
   "metadata": {},
   "source": [
    "**Listing 1. 32. Computing an extreme interval probability**\n",
    "\n",
    "Observing 8 out of 10 tails is as extreme as observing 8 out of 10 heads. What is the probability of observing more than 7 heads or 7 tails?\n",
    "\n",
    "> 计算投掷10次硬币，正面朝上次数在[3,7]区间的概率"
   ]
  },
  {
   "cell_type": "code",
   "execution_count": 31,
   "metadata": {},
   "outputs": [
    {
     "name": "stdout",
     "output_type": "stream",
     "text": [
      "Probability of observing more than 7 heads or 7 tails is 0.109375\n"
     ]
    }
   ],
   "source": [
    "prob = compute_event_probability(lambda x: not is_in_interval(x, 3, 7),\n",
    "                                 weighted_sample_space)\n",
    "print(f\"Probability of observing more than 7 heads or 7 tails is {prob}\")"
   ]
  },
  {
   "cell_type": "markdown",
   "metadata": {},
   "source": [
    "**Listing 1. 33. Analyzing extreme head-counts for 20 fair coin-flips**\n",
    "\n",
    "Suppose we flip the coin 10 additional times, and 8 more heads come up. This brings us to 16 heads out of 20 coin-flips. Lets find the probability of 20 fair coin-flips producing more than 15 heads or 15 tails.\n",
    "\n",
    "> 计算投掷20次硬币，正面朝上次数在[5,15]区间的概率"
   ]
  },
  {
   "cell_type": "code",
   "execution_count": 32,
   "metadata": {},
   "outputs": [
    {
     "name": "stdout",
     "output_type": "stream",
     "text": [
      "Probability of observing more than 15 heads or 15 tails is 0.01181793212890625\n"
     ]
    }
   ],
   "source": [
    "weighted_sample_space_20_flips = generate_coin_sample_space(num_flips=20)\n",
    "prob = compute_event_probability(lambda x: not is_in_interval(x, 5, 15),\n",
    "                                 weighted_sample_space_20_flips)\n",
    "print(f\"Probability of observing more than 15 heads or 15 tails is {prob}\")"
   ]
  },
  {
   "cell_type": "markdown",
   "metadata": {},
   "source": [
    "# 2 Plotting Probabilities Using Matplotlib\n",
    "## 2.1. Basic Matplotlib Plots\n",
    "\n",
    "**Listing 2. 1. Importing Matplotlib**\n",
    "\n",
    "Lets import the Matplotlib plotting library.\n",
    "\n",
    "> 载入`Matplotlib`"
   ]
  },
  {
   "cell_type": "code",
   "execution_count": 33,
   "metadata": {},
   "outputs": [],
   "source": [
    "import matplotlib.pyplot as plt"
   ]
  },
  {
   "cell_type": "markdown",
   "metadata": {},
   "source": [
    "**Listing 2. 2. Plotting a linear relationship**\n",
    "\n",
    "We will now plot some linear data using `plt.plot`. \n",
    "\n",
    "> 绘制线形图"
   ]
  },
  {
   "cell_type": "code",
   "execution_count": 34,
   "metadata": {},
   "outputs": [
    {
     "data": {
      "image/png": "[encoded data removed]",
      "text/plain": [
       "<Figure size 432x288 with 1 Axes>"
      ]
     },
     "metadata": {
      "needs_background": "light"
     },
     "output_type": "display_data"
    }
   ],
   "source": [
    "x = range(0, 10)\n",
    "y = [2 * value for value in x]\n",
    "plt.plot(x, y)\n",
    "plt.show()"
   ]
  },
  {
   "cell_type": "markdown",
   "metadata": {},
   "source": [
    "**Listing 2. 3. Plotting individual data-points**\n",
    "\n",
    "Our plotted points have been connected using smooth line segments. We can visualize these points individually using the `plt.scatter` method.\n",
    "\n",
    "> 绘制散点图"
   ]
  },
  {
   "cell_type": "code",
   "execution_count": 35,
   "metadata": {},
   "outputs": [
    {
     "data": {
      "image/png": "[encoded data removed]",
      "text/plain": [
       "<Figure size 432x288 with 1 Axes>"
      ]
     },
     "metadata": {
      "needs_background": "light"
     },
     "output_type": "display_data"
    }
   ],
   "source": [
    "plt.scatter(x, y)\n",
    "plt.show()"
   ]
  },
  {
   "cell_type": "markdown",
   "metadata": {},
   "source": [
    "**Listing 2. 4. Shading an interval beneath a connected plot.**\n",
    "\n",
    "Suppose we want to emphasize the interval where x begins at 2 and ends at 6. We do this by shading the area under the plotted curve over the specified interval, using the `plt.fill_between` method.\n",
    "\n",
    "> 用`fill_between`函数圈出线形图的某个区间段"
   ]
  },
  {
   "cell_type": "code",
   "execution_count": 36,
   "metadata": {},
   "outputs": [
    {
     "data": {
      "image/png": "[encoded data removed]",
      "text/plain": [
       "<Figure size 432x288 with 1 Axes>"
      ]
     },
     "metadata": {
      "needs_background": "light"
     },
     "output_type": "display_data"
    }
   ],
   "source": [
    "plt.plot(x, y)\n",
    "where = [is_in_interval(value, 2, 6) for value in x]\n",
    "plt.fill_between(x, y, where=where)\n",
    "plt.show()"
   ]
  },
  {
   "cell_type": "markdown",
   "metadata": {},
   "source": [
    "**Listing 2. 5. Exposing individual coordinates within a continuous plot**\n",
    "\n",
    "Lets highlight an interval beneath a continuous line while also exposing individual coordinates.\n",
    "\n",
    "> 线形图叠加散点图，并标记区间段"
   ]
  },
  {
   "cell_type": "code",
   "execution_count": 37,
   "metadata": {},
   "outputs": [
    {
     "data": {
      "image/png": "[encoded data removed]",
      "text/plain": [
       "<Figure size 432x288 with 1 Axes>"
      ]
     },
     "metadata": {
      "needs_background": "light"
     },
     "output_type": "display_data"
    }
   ],
   "source": [
    "plt.scatter(x, y)\n",
    "plt.plot(x, y)\n",
    "plt.fill_between(x, y, where=where)\n",
    "plt.show()"
   ]
  },
  {
   "cell_type": "markdown",
   "metadata": {},
   "source": [
    "**Listing 2. 6. Adding axes labels.**\n",
    "\n",
    "No data plot is ever truly complete without descriptive x-axis and y-axis labels. Such labels can be set using the `plt.xlabel` and `plt.ylabel` methods.\n",
    "\n",
    "> 给坐标轴添加label"
   ]
  },
  {
   "cell_type": "code",
   "execution_count": 38,
   "metadata": {},
   "outputs": [
    {
     "data": {
      "image/png": "[encoded data removed]",
      "text/plain": [
       "<Figure size 432x288 with 1 Axes>"
      ]
     },
     "metadata": {
      "needs_background": "light"
     },
     "output_type": "display_data"
    }
   ],
   "source": [
    "plt.plot(x, y)\n",
    "plt.xlabel('Values between zero and ten')\n",
    "plt.ylabel('Twice the values of x')\n",
    "plt.show()"
   ]
  },
  {
   "cell_type": "markdown",
   "metadata": {},
   "source": [
    "## 2.2. Plotting Coin-Flip Probabilities\n",
    "\n",
    "**Listing 2. 7. Plotting the coin-flip weighted sample space**\n",
    "\n",
    "Our aim is to compare the plotted data from `weighted_sample_space` and `weighted_sample_space_20_flips`. We will begin plotting the elements of `weighted_sample_space`. The x-axis will correspond to `'Head-count'`. The y-axis\n",
    "will correspond to `'Number of coin-flip combinations with x heads'`.\n",
    "\n",
    "> 绘制散点图，横坐标为样本空间，即10次抛硬币正面向上的次数，纵坐标为权重"
   ]
  },
  {
   "cell_type": "code",
   "execution_count": 39,
   "metadata": {},
   "outputs": [
    {
     "data": {
      "image/png": "[encoded data removed]",
      "text/plain": [
       "<Figure size 432x288 with 1 Axes>"
      ]
     },
     "metadata": {
      "needs_background": "light"
     },
     "output_type": "display_data"
    }
   ],
   "source": [
    "# 采样空间样本：即10次抛硬币正面次数综合=N\n",
    "x_10_flips = list(weighted_sample_space.keys())\n",
    "# 采样空间样本对应的权重：即抛10次硬币正面次数=N的抛硬币组合数\n",
    "y_10_flips = [weighted_sample_space[key] for key in x_10_flips]\n",
    "# 绘制散点图、横坐标纵坐标Label\n",
    "plt.scatter(x_10_flips, y_10_flips)\n",
    "plt.xlabel('Head-count')\n",
    "plt.ylabel('Number of coin-flip combinations with x heads')\n",
    "plt.show()"
   ]
  },
  {
   "cell_type": "markdown",
   "metadata": {},
   "source": [
    "**Listing 2. 8. Plotting the coin-flip probabilities**\n",
    "\n",
    "Lets plot the probabilities directly on the y-axis. The probability plot will allow us to replace our lengthy y-axis label with a more concisely stated `'Probability'`.\n",
    "\n",
    "> 绘制散点图，横坐标为样本空间，即10次抛硬币正面向上的次数，纵坐标为概率"
   ]
  },
  {
   "cell_type": "code",
   "execution_count": 40,
   "metadata": {},
   "outputs": [
    {
     "data": {
      "image/png": "[encoded data removed]",
      "text/plain": [
       "<Figure size 432x288 with 1 Axes>"
      ]
     },
     "metadata": {
      "needs_background": "light"
     },
     "output_type": "display_data"
    }
   ],
   "source": [
    "# 采样空间样本：即10次抛硬币正面次数综合=N\n",
    "x_10_flips = list(weighted_sample_space.keys())\n",
    "# 采样空间样本权重：即抛10次硬币正面次数=N的抛硬币组合数\n",
    "y_10_flips = [weighted_sample_space[key] for key in x_10_flips]\n",
    "# 总权重：即抛10次硬币，正反面向上总的组合数\n",
    "sample_space_size = sum(weighted_sample_space.values())\n",
    "# 概率 = 采样空间样本权重 / 总权重\n",
    "prob_x_10_flips = [value / sample_space_size for value in y_10_flips]\n",
    "plt.scatter(x_10_flips, prob_x_10_flips)\n",
    "plt.xlabel('Head-count')\n",
    "plt.ylabel('Probability')\n",
    "plt.show()"
   ]
  },
  {
   "cell_type": "markdown",
   "metadata": {},
   "source": [
    "**Listing 2. 9. Confirming that all probabilities sum to 1.0**\n",
    "\n",
    "The mapping between x-values and probabilities is called a **probability distribution**. The total area beneath a\n",
    "probability distribution always equals 1.0.\n",
    "\n",
    "> 验证：样本空间各个样本概率之和为1"
   ]
  },
  {
   "cell_type": "code",
   "execution_count": 41,
   "metadata": {},
   "outputs": [],
   "source": [
    "assert sum(prob_x_10_flips) == 1.0"
   ]
  },
  {
   "cell_type": "markdown",
   "metadata": {},
   "source": [
    "**Listing 2. 10. Shading the interval under a probability curve**\n",
    "\n",
    "The area beneath the head-count interval of 8 through 10 is equal to the probability of observing 8 heads or more. We can visualize that area using the `plt.fill_between method`. \n",
    "\n",
    "> 绘制正面向上次数在[8,10]之间的概率"
   ]
  },
  {
   "cell_type": "code",
   "execution_count": 42,
   "metadata": {},
   "outputs": [
    {
     "data": {
      "image/png": "[encoded data removed]",
      "text/plain": [
       "<Figure size 432x288 with 1 Axes>"
      ]
     },
     "metadata": {
      "needs_background": "light"
     },
     "output_type": "display_data"
    }
   ],
   "source": [
    "# 绘制折线\n",
    "plt.plot(x_10_flips, prob_x_10_flips)\n",
    "# 绘制散点\n",
    "plt.scatter(x_10_flips, prob_x_10_flips)\n",
    "# 绘制正面向上次数在[8,10]之间的概率\n",
    "where = [is_in_interval(value, 8, 10) for value in x_10_flips]\n",
    "plt.fill_between(x_10_flips, prob_x_10_flips, where=where)\n",
    "# 绘制Label\n",
    "plt.xlabel('Head-count')\n",
    "plt.ylabel('Probability')\n",
    "plt.show()"
   ]
  },
  {
   "cell_type": "markdown",
   "metadata": {},
   "source": [
    "**Listing 2. 11. Shading the interval under the extremes of a probability curve**\n",
    "\n",
    "Now, lets also the shade the interval demarcating the probability of observing 8 tails or more.\n",
    "\n",
    "> 绘制正面向上次数在[0,2], [8,10]之间的概率"
   ]
  },
  {
   "cell_type": "code",
   "execution_count": 43,
   "metadata": {},
   "outputs": [
    {
     "data": {
      "image/png": "[encoded data removed]",
      "text/plain": [
       "<Figure size 432x288 with 1 Axes>"
      ]
     },
     "metadata": {
      "needs_background": "light"
     },
     "output_type": "display_data"
    }
   ],
   "source": [
    "plt.plot(x_10_flips, prob_x_10_flips)\n",
    "plt.scatter(x_10_flips, prob_x_10_flips)\n",
    "where = [not is_in_interval(value, 3, 7) for value in x_10_flips]\n",
    "plt.fill_between(x_10_flips, prob_x_10_flips, where=where)\n",
    "plt.xlabel('Head-count')\n",
    "plt.ylabel('Probability')\n",
    "plt.show()"
   ]
  },
  {
   "cell_type": "markdown",
   "metadata": {},
   "source": [
    "The two symmetrically shaded intervals cover the right and left tail-ends of the coin-flip curve.\n",
    "\n",
    "### 2.2.1. Comparing Multiple Coin-Flip Probability Distributions\n",
    "\n",
    "**Listing 2. 12. Computing probabilities for a 20 coin-flip distribution.**\n",
    "\n",
    "Lets extend our plot to also encompass the distribution for 20 flipped coins. We’ll plot both distributions on a single figure, though first we must compute the x-axis head-counts and y-axis probabilities for the 20 coin-flip distribution.\n",
    "\n",
    "> 计算投掷20次硬币，正面向上次数=N的概率"
   ]
  },
  {
   "cell_type": "code",
   "execution_count": 44,
   "metadata": {},
   "outputs": [],
   "source": [
    "# 投掷20次硬币，正面向上的次数取值范围\n",
    "x_20_flips = list(weighted_sample_space_20_flips.keys())\n",
    "# 投掷20次硬币，正面向上的次数取值所对应的权重（正面向上次数=N时、各枚硬币向上的组合数）\n",
    "y_20_flips = [weighted_sample_space_20_flips[key] for key in x_20_flips]\n",
    "# 投掷20次硬币，总权重（硬币向上的组合数）\n",
    "sample_space_size = sum(weighted_sample_space_20_flips.values())\n",
    "# 概率 = 次数为N的权重 / 总权重\n",
    "prob_x_20_flips = [value / sample_space_size for value in y_20_flips]"
   ]
  },
  {
   "cell_type": "markdown",
   "metadata": {},
   "source": [
    "**Listing 2. 13. Plotting 2 simultaneous distributions.**\n",
    "\n",
    "Now we are ready to visualize the 2 distributions simultaneously.\n",
    "\n",
    "> 抛10次硬币、与抛20次硬币绘制在一起，以做比较"
   ]
  },
  {
   "cell_type": "code",
   "execution_count": 45,
   "metadata": {},
   "outputs": [
    {
     "data": {
      "image/png": "[encoded data removed]",
      "text/plain": [
       "<Figure size 432x288 with 1 Axes>"
      ]
     },
     "metadata": {
      "needs_background": "light"
     },
     "output_type": "display_data"
    }
   ],
   "source": [
    "plt.plot(x_10_flips, prob_x_10_flips, label='A: 10 coin-flips')\n",
    "plt.scatter(x_10_flips, prob_x_10_flips)\n",
    "plt.plot(x_20_flips, prob_x_20_flips, color='black', linestyle='--',\n",
    "        label='B: 20 coin-flips')\n",
    "plt.scatter(x_20_flips, prob_x_20_flips, color='k', marker='x')\n",
    "plt.xlabel('Head-count')\n",
    "plt.ylabel('Probability')\n",
    "plt.legend()\n",
    "plt.show()"
   ]
  },
  {
   "cell_type": "markdown",
   "metadata": {},
   "source": [
    "**Listing 2. 14. Highlighting intervals beneath 2 plotted distributions.**\n",
    "\n",
    "We’ve visualized our 2 distributions. Next, we’ll proceed to highlight our interval of interest (80% of heads or tails) across each of the 2 plotted curves.\n",
    "\n",
    "> 抛10次硬币、与抛20次硬币绘制在一起，以做比较，并标注出各自头尾部20%区间段的概率"
   ]
  },
  {
   "cell_type": "code",
   "execution_count": 46,
   "metadata": {},
   "outputs": [
    {
     "data": {
      "image/png": "[encoded data removed]",
      "text/plain": [
       "<Figure size 432x288 with 1 Axes>"
      ]
     },
     "metadata": {
      "needs_background": "light"
     },
     "output_type": "display_data"
    }
   ],
   "source": [
    "plt.plot(x_10_flips, prob_x_10_flips, label='A: 10 coin-flips')\n",
    "plt.plot(x_20_flips, prob_x_20_flips, color='k', linestyle='--', \n",
    "         label='B: 20 coin-flips')\n",
    "plt.legend()\n",
    "\n",
    "where_10 = [not is_in_interval(value, 3, 7) for value in x_10_flips]\n",
    "plt.fill_between(x_10_flips, prob_x_10_flips, where=where_10)\n",
    "where_20 = [not is_in_interval(value, 5, 15) for value in x_20_flips]\n",
    "plt.fill_between(x_20_flips, prob_x_20_flips, where=where_20)\n",
    "\n",
    "plt.xlabel('Head-Count')\n",
    "plt.ylabel('Probability')\n",
    "plt.show()"
   ]
  },
  {
   "cell_type": "markdown",
   "metadata": {},
   "source": [
    "**Listing 2. 15. Converting head-counts into frequencies**\n",
    "\n",
    "Lets improve the visualization by aligning the distribution peaks. If we convert the head-counts into frequencies (by\n",
    "dividing by the total coin flips), then both the distribution peaks should align at a frequency of 0.5.\n",
    "\n",
    "> 把横坐标由正面向上次数，转换成频率，将两条折线的X轴align在一起（但这样带来另一个问题，折线下面积不再是1，这个问题将在下一张图中解决）"
   ]
  },
  {
   "cell_type": "code",
   "execution_count": 47,
   "metadata": {},
   "outputs": [
    {
     "data": {
      "image/png": "[encoded data removed]",
      "text/plain": [
       "<Figure size 432x288 with 1 Axes>"
      ]
     },
     "metadata": {
      "needs_background": "light"
     },
     "output_type": "display_data"
    }
   ],
   "source": [
    "# 投掷10次筛子，正面向上次数[0,10]转换成频率[0.0,  1.0]\n",
    "x_10_frequencies = [head_count / 10 for head_count in x_10_flips]\n",
    "\n",
    "# 投掷20次筛子，正面向上次数[0,20]转换成频率[0.0,  1.0]\n",
    "x_20_frequencies = [head_count / 20 for head_count in x_20_flips]\n",
    "\n",
    "# 绘制两条折线图\n",
    "plt.plot(x_10_frequencies, prob_x_10_flips, label='A: 10 coin-flips')\n",
    "plt.plot(x_20_frequencies, prob_x_20_flips, color='k', linestyle=':', label='B: 20 coin-flips')\n",
    "\n",
    "# 图例\n",
    "plt.legend()\n",
    "\n",
    "# Label\n",
    "plt.xlabel('Head-Frequency')\n",
    "plt.ylabel('Probability')\n",
    "plt.show()"
   ]
  },
  {
   "cell_type": "markdown",
   "metadata": {},
   "source": [
    "**Listing 2. 16. Computing relative likelihoods of frequencies**\n",
    "\n",
    "The 2 peaks now align. However, the total area beneath each curve no longer equals 1.0. We’ll need to force the aligned curve-areas to equal 1.0 prior to doing interval comparison. The adjusted y-values will no longer be probabilities. They will become **relative likelihoods*.\n",
    "\n",
    "> 如何解决上一张图中，折线下面积不再为1的问题：方法是调整y值，对其进行拉伸，不再表示绝对概率，而是一个相对似然（`relative likelihoods`）<br/>\n",
    "> 对于投10次硬币的样本空间：之前对X轴做了除以10的缩放，因此对Y轴做乘以10的缩放<br/>\n",
    "> 对于投20次硬币的样本空间：之前对X轴做了除以20的缩放，因此对Y轴做乘以20的缩放<br/>"
   ]
  },
  {
   "cell_type": "markdown",
   "metadata": {},
   "source": [
    "**Listing 2. 17. Plotting aligned relative likelihood curves**"
   ]
  },
  {
   "cell_type": "code",
   "execution_count": 48,
   "metadata": {},
   "outputs": [
    {
     "data": {
      "image/png": "[encoded data removed]",
      "text/plain": [
       "<Figure size 432x288 with 1 Axes>"
      ]
     },
     "metadata": {
      "needs_background": "light"
     },
     "output_type": "display_data"
    }
   ],
   "source": [
    "# 缩放之后的Y轴\n",
    "relative_likelihood_10 = [10 * prob for prob in prob_x_10_flips]\n",
    "relative_likelihood_20 = [20 * prob for prob in prob_x_20_flips]\n",
    "\n",
    "# 重新绘制折线图\n",
    "plt.plot(x_10_frequencies, relative_likelihood_10, label='A: 10 coin-flips')\n",
    "plt.plot(x_20_frequencies, relative_likelihood_20, color='k', linestyle=':', label='B: 20 coin-flips')\n",
    "\n",
    "# 填充左右20% Frequencies的区间段\n",
    "plt.fill_between(x_10_frequencies, relative_likelihood_10, where=where_10)\n",
    "plt.fill_between(x_20_frequencies, relative_likelihood_20, where=where_20)\n",
    "\n",
    "# 图例和Label\n",
    "plt.legend()\n",
    "plt.xlabel('Head-Frequency')\n",
    "plt.ylabel('Relative Likelihood')\n",
    "plt.show()"
   ]
  },
  {
   "cell_type": "markdown",
   "metadata": {},
   "source": [
    "Curve A covers a larger area over more extreme head-frequency intervals. Hence, observed recordings of such frequencies are more likely to occur when the coin-flip count is 10 and not 20."
   ]
  },
  {
   "cell_type": "markdown",
   "metadata": {},
   "source": [
    "# 3. Running Random Simulations in NumPy\n",
    "## 3.1. Simulating Random Coin-Flips and Dice-Rolls Using NumPy\n",
    "\n",
    "**Listing 3. 1. Importing NumPy**\n",
    "\n",
    "Lets import the NumPy numerical computing library.\n",
    "\n",
    "> 导入numpy"
   ]
  },
  {
   "cell_type": "code",
   "execution_count": 49,
   "metadata": {},
   "outputs": [],
   "source": [
    "import numpy as np"
   ]
  },
  {
   "cell_type": "markdown",
   "metadata": {},
   "source": [
    "**Listing 3. 2. Simulating a randomly rolled die**\n",
    "\n",
    "We can carry out random simulations using the `np.random` module. Calling `np.random.randint(1, 7)` will simulate a single roll of a standard die.\n",
    "\n",
    "> 用随机数来模拟骰子投掷"
   ]
  },
  {
   "cell_type": "code",
   "execution_count": 50,
   "metadata": {},
   "outputs": [],
   "source": [
    "dice_roll = np.random.randint(1, 6)\n",
    "assert 1 <= dice_roll <= 6"
   ]
  },
  {
   "cell_type": "markdown",
   "metadata": {},
   "source": [
    "**Listing 3. 3. Seeding reproducible random dice-rolls**\n",
    "\n",
    "We’ll need a way of ensuring that all our random outputs can be reproduced at home. Conveniently, consistency can easily be maintained by calling `np.random.seed(0)`.\n",
    "\n",
    "> 通过固定随机数的seed，可以保证产生一个固定的伪随机数序列，使得筛子投掷模拟可以复现"
   ]
  },
  {
   "cell_type": "code",
   "execution_count": 51,
   "metadata": {},
   "outputs": [],
   "source": [
    "np.random.seed(0)\n",
    "dice_rolls = [np.random.randint(1, 7) for _ in range(3)]\n",
    "assert dice_rolls == [5, 6, 1]"
   ]
  },
  {
   "cell_type": "markdown",
   "metadata": {},
   "source": [
    "**Listing 3. 4. Simulating one fair coin-flip**\n",
    "\n",
    "We’ll now use np.random.randint(0, 2) to simulate a single flip of an unbiase\n",
    "coin.\n",
    "\n",
    "> 同样的方法可以模拟无偏的硬币投掷"
   ]
  },
  {
   "cell_type": "code",
   "execution_count": 52,
   "metadata": {},
   "outputs": [
    {
     "name": "stdout",
     "output_type": "stream",
     "text": [
      "Coin landed on tails\n"
     ]
    }
   ],
   "source": [
    "np.random.seed(0)\n",
    "coin_flip = np.random.randint(0, 2)\n",
    "print(f\"Coin landed on {'heads' if coin_flip == 1 else 'tails'}\")"
   ]
  },
  {
   "cell_type": "markdown",
   "metadata": {},
   "source": [
    "**Listing 3. 5. Simulating 10 fair coin-flips**\n",
    "\n",
    "Next, we’ll simulate a sequence of 10 coin-flips, and then compute the observed frequency of heads.\n",
    "\n",
    "> 模拟10次硬币投掷，然后计算正面向上的观测频率"
   ]
  },
  {
   "cell_type": "code",
   "execution_count": 53,
   "metadata": {},
   "outputs": [
    {
     "name": "stdout",
     "output_type": "stream",
     "text": [
      "Frequency of Heads is 0.8\n"
     ]
    }
   ],
   "source": [
    "np.random.seed(0)\n",
    "def frequency_heads(coin_flip_sequence):\n",
    "    total_heads = sum(coin_flip_sequence)\n",
    "    return total_heads / len(coin_flip_sequence)\n",
    "\n",
    "# 10次随机硬币投掷\n",
    "coin_flips = [np.random.randint(0, 2) for _ in range(10)]\n",
    "# 计算正面向上次数占比（频率）\n",
    "freq_heads = frequency_heads(coin_flips)\n",
    "print(f\"Frequency of Heads is {freq_heads}\")"
   ]
  },
  {
   "cell_type": "markdown",
   "metadata": {},
   "source": [
    "**Listing 3. 6. Plotting simulated fair coin-flip frequencies**\n",
    "\n",
    "Lets see what happens when we flip the coin 1000 times. After each flip, we will record the total frequency of heads observed in the sequence. Once the coin-flips are completed, we will plot the results.\n",
    "\n",
    "> 投掷1000次硬币，并且每次投掷后，计算到目前为止，正面向上的Frequency，并绘图</br>\n",
    "> 可以看出，正面向上的Frequency再初期波动比较大，随着投掷次数的增加逐渐稳定在0.5附近</br>"
   ]
  },
  {
   "cell_type": "code",
   "execution_count": 54,
   "metadata": {},
   "outputs": [
    {
     "data": {
      "image/png": "[encoded data removed]",
      "text/plain": [
       "<Figure size 432x288 with 1 Axes>"
      ]
     },
     "metadata": {
      "needs_background": "light"
     },
     "output_type": "display_data"
    }
   ],
   "source": [
    "# 固定随机数seed\n",
    "np.random.seed(0)\n",
    "\n",
    "# 投掷硬币序列：第1次 -> 第1000次 \n",
    "coin_flips = []\n",
    "# 正面向上的Frequency\n",
    "frequencies = []\n",
    "# 从投掷第1次 -> 投掷了1000次\n",
    "for _ in range(1000):\n",
    "    # 投掷第i次硬币\n",
    "    coin_flips.append(np.random.randint(0, 2))\n",
    "    # 计算从投掷第1次、到第i次中，正面向上的Frequency\n",
    "    frequencies.append(frequency_heads(coin_flips))\n",
    "\n",
    "# 绘图\n",
    "plt.plot(list(range(1000)), frequencies)\n",
    "plt.axhline(.5, color='k')\n",
    "plt.xlabel('Number of Coin Flips')\n",
    "plt.ylabel('Head-Frequency')\n",
    "plt.show()"
   ]
  },
  {
   "cell_type": "markdown",
   "metadata": {},
   "source": [
    "The probability of heads slowly converges to 0.5."
   ]
  },
  {
   "cell_type": "markdown",
   "metadata": {
    "scrolled": true
   },
   "source": [
    "### 3.1.1. Analyzing Biased Coin-Flips\n",
    "\n",
    "**Listing 3. 7. Simulating biased coin-flips**\n",
    "\n",
    "Lets simulate a coin that falls on heads 70% of the time? We'll generate that biased output by calling `np.random.binomial(1, .7)`.\n",
    "\n",
    "> 用`np.random.binomial(1, .7)`模拟正面向上概率为70%的有偏硬币投掷"
   ]
  },
  {
   "cell_type": "code",
   "execution_count": 55,
   "metadata": {},
   "outputs": [
    {
     "name": "stdout",
     "output_type": "stream",
     "text": [
      "Lets flip the biased coin once.\n",
      "Biased coin landed on heads.\n",
      "\n",
      "Lets flip the biased coin 10 times.\n",
      "6 heads were observed out of 10 biased coin flips\n"
     ]
    }
   ],
   "source": [
    "# 固定Random Seed\n",
    "np.random.seed(0)\n",
    "\n",
    "# 用np.random.binomial(1, .7)生成正面向上概率为70%的有偏估计下的硬币投掷序列\n",
    "print(\"Lets flip the biased coin once.\")\n",
    "coin_flip = np.random.binomial(1, .7)\n",
    "print(f\"Biased coin landed on {'heads' if coin_flip == 1 else 'tails'}.\")\n",
    "\n",
    "# 投掷10次硬币，发现其中有6次正面朝上\n",
    "print(\"\\nLets flip the biased coin 10 times.\")\n",
    "number_coin_flips = 10\n",
    "head_count = np.random.binomial(number_coin_flips, .7)\n",
    "print((f\"{head_count} heads were observed out of \" \n",
    "       f\"{number_coin_flips} biased coin flips\"))"
   ]
  },
  {
   "cell_type": "markdown",
   "metadata": {},
   "source": [
    "Lets generate a sequence of 1000 biased coin-flips. We’ll then check if the frequency converges to 0.7.\n",
    "\n",
    "**Listing 3. 8. Computing coin-flip frequency convergence**"
   ]
  },
  {
   "cell_type": "code",
   "execution_count": 56,
   "metadata": {},
   "outputs": [
    {
     "name": "stdout",
     "output_type": "stream",
     "text": [
      "Frequency of Heads is 0.697\n"
     ]
    }
   ],
   "source": [
    "# 投掷1000次，正面向上的Frequency已经达到了0.697（接近70%的概率值）\n",
    "np.random.seed(0)\n",
    "head_count = np.random.binomial(1000, .7)\n",
    "frequency = head_count / 1000\n",
    "print(f\"Frequency of Heads is {frequency}\")"
   ]
  },
  {
   "cell_type": "markdown",
   "metadata": {},
   "source": [
    "**Listing 3. 9. Re-computing coin-flip frequency convergence**\n",
    "\n",
    "The frequency is .03 units smaller than the true probability of heads. Suppose we recompute the frequency of 1000 coin-flips five more times. Will any of the frequencies be equal to 0.7? \n",
    "\n",
    "> 如果再来5轮1000次硬币，是否会出现Frequency=0.7的情况，运行下面的代码，5轮中有1轮Frequency为0.7，其余轮次Frequency在0.7上下波动"
   ]
  },
  {
   "cell_type": "code",
   "execution_count": 57,
   "metadata": {},
   "outputs": [
    {
     "name": "stdout",
     "output_type": "stream",
     "text": [
      "Frequency at iteration 1 is 0.69\n",
      "Frequency at iteration 2 is 0.7\n",
      "Frequency equals the probability!\n",
      "\n",
      "Frequency at iteration 3 is 0.707\n",
      "Frequency at iteration 4 is 0.702\n",
      "Frequency at iteration 5 is 0.699\n"
     ]
    }
   ],
   "source": [
    "np.random.seed(0)\n",
    "assert np.random.binomial(1000, .7) / 1000 == 0.697\n",
    "for i in range(1, 6):\n",
    "    head_count = np.random.binomial(1000, .7)\n",
    "    frequency = head_count / 1000\n",
    "    print(f\"Frequency at iteration {i} is {frequency}\")\n",
    "    if frequency == 0.7:\n",
    "        print(\"Frequency equals the probability!\\n\")"
   ]
  },
  {
   "cell_type": "markdown",
   "metadata": {},
   "source": [
    "Just one out the 5 iterations produced a measurement that equaled the real probability. The observed frequency appears to fluctuate over every sampling of 1000 coin-flips."
   ]
  },
  {
   "cell_type": "markdown",
   "metadata": {},
   "source": [
    "## 3.2. Computing Confidence Intervals Using Histograms and NumPy Arrays\n",
    "\n",
    "**Listing 3. 10. Computing frequencies with 500 flips-per-sample**\n",
    "\n",
    "We’ve previously sampled our coin over 5 iterations of 1000 coin-flips each. The sampling produced some fluctuations in the frequency. Lets explore these fluctuations by increasing our frequency count from 5 to 500.\n",
    "\n",
    "> 将5轮1000次有偏硬币投掷，增加到500轮"
   ]
  },
  {
   "cell_type": "code",
   "execution_count": 58,
   "metadata": {},
   "outputs": [],
   "source": [
    "np.random.seed(0)\n",
    "head_count_list = [np.random.binomial(1000, .7) for _ in range(500)]"
   ]
  },
  {
   "cell_type": "markdown",
   "metadata": {},
   "source": [
    "**Listing 3. 11. Optimizing coin-flip frequency computation**\n",
    "\n",
    "We can more efficiently sample over 500 iterations by running `np.random.binomial(coin_flip_count, 0.7, size=500)`. \n",
    "\n",
    "> 将5轮1000次有偏硬币投掷，增加到500轮：另一种代码写法，会更加简洁"
   ]
  },
  {
   "cell_type": "code",
   "execution_count": 59,
   "metadata": {},
   "outputs": [],
   "source": [
    "np.random.seed(0)\n",
    "head_count_array = np.random.binomial(1000, 0.7, 500)"
   ]
  },
  {
   "cell_type": "markdown",
   "metadata": {},
   "source": [
    "**Listing 3. 12. Coverting a NumPy array to a Python list**\n",
    "\n",
    "The output is not a Python list, but a NumPy array data-structure. The actual numeric quantities stored\n",
    "with both `head_count_array` and `head_count_list` remain the same.\n",
    "\n",
    "> 将上面代码`np.random.binomial(1000, 0.7, 500)`的输出由Numpy Array（`ndarray` or `scalar`）转换为`list`"
   ]
  },
  {
   "cell_type": "code",
   "execution_count": 60,
   "metadata": {},
   "outputs": [],
   "source": [
    "assert head_count_array.tolist() == head_count_list"
   ]
  },
  {
   "cell_type": "markdown",
   "metadata": {},
   "source": [
    "**Listing 3. 13. Coverting a Python list to a NumPy array**\n",
    "\n",
    "We can also convert our Python list into a value-equivalent NumPy array by calling np.array(head_count_list).\n",
    "\n",
    "> 同样还可以把`list`转换回Numpy Array（`ndarray` or `scalar`）"
   ]
  },
  {
   "cell_type": "code",
   "execution_count": 61,
   "metadata": {},
   "outputs": [],
   "source": [
    "new_array = np.array(head_count_list)\n",
    "assert np.array_equal(new_array, head_count_array) == True"
   ]
  },
  {
   "cell_type": "markdown",
   "metadata": {},
   "source": [
    "**Listing 3. 14. Computing frequencies using NumPy**\n",
    "\n",
    "Dividing a NumPy array by some number will automatically divide all array elements by that number. Thus, executing head_count_array / 1000 will automatically transform our head-counts into frequencies.\n",
    "\n",
    "> 将这个`ndarray`中的元素（每轮正面向上的次数）除以1000（每轮投掷1000次），得到每轮正面向上的频率"
   ]
  },
  {
   "cell_type": "code",
   "execution_count": 62,
   "metadata": {},
   "outputs": [],
   "source": [
    "# 元素除以1000\n",
    "frequency_array = head_count_array / 1000\n",
    "\n",
    "# 上面是numpy的运算，会作用在ndarray中每个元素上，等效于下面的代码\n",
    "assert frequency_array.tolist() == [head_count / 1000 for head_count in head_count_list]\n",
    "assert frequency_array.tolist() == list(map(lambda x: x / 1000,  head_count_list))"
   ]
  },
  {
   "cell_type": "markdown",
   "metadata": {},
   "source": [
    "Lets explore the contents of `frequency_array` in greater detail. We’ll start by printing the first 20 sampled frequencies within the array.\n",
    "\n",
    "**Listing 3. 15. Printing a NumPy frequency array**"
   ]
  },
  {
   "cell_type": "code",
   "execution_count": 63,
   "metadata": {},
   "outputs": [
    {
     "name": "stdout",
     "output_type": "stream",
     "text": [
      "[0.697 0.69  0.7   0.707 0.702 0.699 0.723 0.67  0.702 0.713 0.721 0.689\n",
      " 0.711 0.697 0.717 0.691 0.731 0.697 0.722 0.728]\n"
     ]
    }
   ],
   "source": [
    "# 打印前20轮正面向上的频率\n",
    "print(frequency_array[:20])"
   ]
  },
  {
   "cell_type": "markdown",
   "metadata": {},
   "source": [
    "Now, lets extract the minimum and maximum frequencies values by calling the `frequency_array.min()` and\n",
    "`frequency_array.max()` array methods.\n",
    "\n",
    "**Listing 3. 16. Finding the largest and smallest frequency values**"
   ]
  },
  {
   "cell_type": "code",
   "execution_count": 64,
   "metadata": {},
   "outputs": [
    {
     "name": "stdout",
     "output_type": "stream",
     "text": [
      "Minimum frequency observed: 0.656\n",
      "Maximum frequency observed: 0.733\n",
      "Difference across frequency range: 0.07699999999999996\n"
     ]
    }
   ],
   "source": [
    "# 查看正面向上频率的最低值、最高值\n",
    "min_freq = frequency_array.min()\n",
    "max_freq = frequency_array.max()\n",
    "print(f\"Minimum frequency observed: {min_freq}\")\n",
    "print(f\"Maximum frequency observed: {max_freq}\")\n",
    "print(f\"Difference across frequency range: {max_freq - min_freq}\")"
   ]
  },
  {
   "cell_type": "markdown",
   "metadata": {},
   "source": [
    "Somewhere between the frequency range of 0.656 to 0.733 lies the true probability of\n",
    "heads. How can we rationally narrow the frequency range? Plotting the data could help.\n",
    "\n",
    "**Listing 3. 17. Plotting measured frequencies**\n",
    "\n",
    "> 用散点图查看频率值所出现的轮数，但是散点图太分散，希望用柱状图按频率区间来统计"
   ]
  },
  {
   "cell_type": "code",
   "execution_count": 65,
   "metadata": {},
   "outputs": [
    {
     "data": {
      "image/png": "[encoded data removed]",
      "text/plain": [
       "<Figure size 432x288 with 1 Axes>"
      ]
     },
     "metadata": {
      "needs_background": "light"
     },
     "output_type": "display_data"
    }
   ],
   "source": [
    "frequency_counts = defaultdict(int)\n",
    "for frequency in frequency_array:\n",
    "    frequency_counts[frequency] += 1\n",
    "\n",
    "frequencies = list(frequency_counts.keys())\n",
    "counts = [frequency_counts[freq] for freq in frequencies]\n",
    "plt.scatter(frequencies, counts)\n",
    "plt.xlabel('Frequency')\n",
    "plt.ylabel('Count')\n",
    "plt.show()"
   ]
  },
  {
   "cell_type": "markdown",
   "metadata": {},
   "source": [
    "Our plot is somewhat flawed, since values that are very close get counted separately. Perhaps instead of treating these values as individual points, we should group such proximate frequencies together."
   ]
  },
  {
   "cell_type": "markdown",
   "metadata": {},
   "source": [
    "### 3.2.1. Binning Similar Points in Histogram Plots\n",
    "\n",
    "**Listing 3. 18. Plotting a frequency histogram using plt.hist**\n",
    "\n",
    "We’ll sub-divide our frequency range into N equally spaced bins, and then place all frequency values into one of those bins.  Afterwards, we’ll count the total values in each bin, and visualize the counts using a plot. This type of **histogram** plot can be carried out using the `plt.hist` method.\n",
    "\n",
    "> 用柱状图来统计各正面向上频率区间的实验轮数"
   ]
  },
  {
   "cell_type": "code",
   "execution_count": 66,
   "metadata": {},
   "outputs": [
    {
     "data": {
      "image/png": "[encoded data removed]",
      "text/plain": [
       "<Figure size 432x288 with 1 Axes>"
      ]
     },
     "metadata": {
      "needs_background": "light"
     },
     "output_type": "display_data"
    }
   ],
   "source": [
    "plt.hist(frequency_array, bins='auto', edgecolor='black')\n",
    "plt.xlabel('Binned Frequency')\n",
    "plt.ylabel('Count')\n",
    "plt.show()"
   ]
  },
  {
   "cell_type": "markdown",
   "metadata": {},
   "source": [
    "**Listing 3. 19. Counting bins in a plotted histogram**\n",
    "\n",
    "The total count of bins within the plot is not yet known. However, we can obtain that information using `counts`, which is a NumPy array returned by `plt.hist`.\n",
    "\n",
    "> 因为柱状图的柱子数是让`plt.hist`自己来选取的（`bins='auto'`），因此通过函数返回值来得到柱子数(`bin count`)"
   ]
  },
  {
   "cell_type": "code",
   "execution_count": 67,
   "metadata": {},
   "outputs": [
    {
     "name": "stdout",
     "output_type": "stream",
     "text": [
      "Number of Bins: 16\n"
     ]
    },
    {
     "data": {
      "image/png": "[encoded data removed]",
      "text/plain": [
       "<Figure size 432x288 with 1 Axes>"
      ]
     },
     "metadata": {
      "needs_background": "light"
     },
     "output_type": "display_data"
    }
   ],
   "source": [
    "counts, _, _ = plt.hist(frequency_array, bins='auto', edgecolor='black')\n",
    "print(f\"Number of Bins: {counts.size}\")"
   ]
  },
  {
   "cell_type": "markdown",
   "metadata": {},
   "source": [
    "**Listing 3. 20. Finding the width of bins within a histogram**\n",
    "\n",
    "How wide is each bin? To find out, we'll leverage the `bin_edges` array, which is the second variable\n",
    "returned by `plt.hist`.\n",
    "\n",
    "> 同样，通过`plt.hist`返回值，可以得到每跟柱子所覆盖的x轴取值区间跨度"
   ]
  },
  {
   "cell_type": "code",
   "execution_count": 68,
   "metadata": {},
   "outputs": [
    {
     "name": "stdout",
     "output_type": "stream",
     "text": [
      "Bin width: 0.004812499999999997\n"
     ]
    },
    {
     "data": {
      "image/png": "[encoded data removed]",
      "text/plain": [
       "<Figure size 432x288 with 1 Axes>"
      ]
     },
     "metadata": {
      "needs_background": "light"
     },
     "output_type": "display_data"
    }
   ],
   "source": [
    "counts, bin_edges, _ = plt.hist(frequency_array, bins='auto', edgecolor='black')\n",
    "\n",
    "bin_width = bin_edges[1] - bin_edges[0]\n",
    "assert bin_width == (max_freq - min_freq) / counts.size\n",
    "print(f\"Bin width: {bin_width}\")"
   ]
  },
  {
   "cell_type": "markdown",
   "metadata": {},
   "source": [
    "**Listing 3. 21. Getting a bin’s frequency and size**\n",
    "\n",
    "The `bin_edges` array can be used in tandem with `counts` to output the element-count and\n",
    "coverage-range for any specified bin. \n",
    "\n",
    "> 打印各根柱子的详情（柱子编号、X轴最低值、X轴最高值、覆盖的轮数（Y轴））"
   ]
  },
  {
   "cell_type": "code",
   "execution_count": 69,
   "metadata": {},
   "outputs": [
    {
     "name": "stdout",
     "output_type": "stream",
     "text": [
      "The bin for frequency range 0.656 - 0.6608125 contains 1 element\n",
      "The bin for frequency range 0.6800625 - 0.684875 contains 20 elements\n"
     ]
    }
   ],
   "source": [
    "def output_bin_coverage(i):\n",
    "    count = int(counts[i])\n",
    "    range_start, range_end = bin_edges[i], bin_edges[i+1]\n",
    "    range_string = f\"{range_start} - {range_end}\"\n",
    "    print((f\"The bin for frequency range {range_string} contains \" \n",
    "           f\"{count} element{'' if count == 1 else 's'}\"))\n",
    "    \n",
    "output_bin_coverage(0)\n",
    "output_bin_coverage(5)"
   ]
  },
  {
   "cell_type": "markdown",
   "metadata": {},
   "source": [
    "**Listing 3. 22. Finding the index of an array’s maximum value**\n",
    "\n",
    "Let’s compute the count and frequency range for the highest peak within our histogram. Conveniently, NumPy arrays have a built-in `argmax` method, which returns the index of the maximum value within a given array.\n",
    "\n",
    "> 找到Y值最高的那根柱子的编号"
   ]
  },
  {
   "cell_type": "code",
   "execution_count": 70,
   "metadata": {},
   "outputs": [],
   "source": [
    "assert counts[counts.argmax()] == counts.max()"
   ]
  },
  {
   "cell_type": "markdown",
   "metadata": {},
   "source": [
    "**Listing 3. 23. Using `argmax` to return a histogram’s peak**\n",
    "\n",
    "Thus, calling `output_bin_coverage(counts.argmax())` should provide us with the output we’ve requested.\n",
    "\n",
    "> 打印Y值最高的那根柱子的详细情况（柱子编号、X轴最低值、X轴最高值、覆盖的轮数（Y轴））"
   ]
  },
  {
   "cell_type": "code",
   "execution_count": 71,
   "metadata": {},
   "outputs": [
    {
     "name": "stdout",
     "output_type": "stream",
     "text": [
      "The bin for frequency range 0.6945 - 0.6993125 contains 72 elements\n"
     ]
    }
   ],
   "source": [
    "output_bin_coverage(counts.argmax())"
   ]
  },
  {
   "cell_type": "markdown",
   "metadata": {},
   "source": [
    "### 3.2.2. Deriving Probabilities from Histograms\n",
    "\n",
    "**Listing 3. 24. Plotting a histogram’s relative likelihoods**\n",
    "\n",
    "We wish to calculate the likelihood that a randomly measured frequency falls within 0.694 - 0.699. The likelihood of an interval equals its area under a curve, but only when the total plotted area sums up to 1.0. We thus must modify our histogram by transforming the counts into relative likelihoods.\n",
    "\n",
    "> 前面小节的图片，横坐标是1轮1000次投硬币实验正面向上的频率区间段，纵坐标是覆盖的轮数</br>\n",
    "> 下面的代码，通过`density=True`参数，将纵坐标转换成轮数的相对`likelihoods`，进而使得所有柱体总面积是1.0</br>"
   ]
  },
  {
   "cell_type": "code",
   "execution_count": 72,
   "metadata": {},
   "outputs": [
    {
     "data": {
      "image/png": "[encoded data removed]",
      "text/plain": [
       "<Figure size 432x288 with 1 Axes>"
      ]
     },
     "metadata": {
      "needs_background": "light"
     },
     "output_type": "display_data"
    }
   ],
   "source": [
    "likelihoods, bin_edges, _ = plt.hist(frequency_array, bins='auto', edgecolor='black', density=True)\n",
    "plt.xlabel('Binned Frequency')\n",
    "plt.ylabel('Relative Likelihood')\n",
    "plt.show()"
   ]
  },
  {
   "cell_type": "markdown",
   "metadata": {},
   "source": [
    "**Listing 3. 25. Computing the total area under a histogram**\n",
    "\n",
    "The total area beneath our histogram now sums to 1.0.\n",
    "\n",
    "> 验证，总面积为1.0"
   ]
  },
  {
   "cell_type": "code",
   "execution_count": 73,
   "metadata": {},
   "outputs": [],
   "source": [
    "assert likelihoods.sum() * bin_width == 1.0"
   ]
  },
  {
   "cell_type": "markdown",
   "metadata": {},
   "source": [
    "**Listing 3. 26. Computing the probability of the peak frequencies**\n",
    "\n",
    "Thus, the area beneath the histogram’s peak is now a probability. We can compute that probability by calculating the area of the bin positioned at `likelihoods.argmax()`.\n",
    "\n",
    "> 现在柱状图面积可以表示概率了，通过柱面下面积来计算一个X轴区间段的概率\n",
    "> \n",
    "> 下面例子是Y值最高的柱子所覆盖的X轴区间，以及概率：为0.025"
   ]
  },
  {
   "cell_type": "code",
   "execution_count": 114,
   "metadata": {},
   "outputs": [
    {
     "name": "stdout",
     "output_type": "stream",
     "text": [
      "Sampled frequency falls within interval 0.8459554054054055 - 0.8460490540540541 with probability 0.025610000000030362\n"
     ]
    }
   ],
   "source": [
    "index = likelihoods.argmax()\n",
    "area = likelihoods[index] * bin_width\n",
    "range_start, range_end = bin_edges[index], bin_edges[index+1]\n",
    "range_string = f\"{range_start} - {range_end}\"\n",
    "print(f\"Sampled frequency falls within interval {range_string} with probability {area}\")"
   ]
  },
  {
   "cell_type": "markdown",
   "metadata": {},
   "source": [
    "**Listing 3. 27. Raising the probability of a frequency range**\n",
    "\n",
    "The probability is low, but we can raise it by expanding our interval range beyond one bin. We’ll stretch the range to cover neighboring bins at `indices likelihoods.argmax() - 1` and `likelihoods.argmax() + 1`.\n",
    "\n",
    "> 下面的例子计算3根柱子所覆盖的X轴区间段的总概率：为0.464"
   ]
  },
  {
   "cell_type": "code",
   "execution_count": 75,
   "metadata": {},
   "outputs": [
    {
     "name": "stdout",
     "output_type": "stream",
     "text": [
      "Sampled frequency falls within interval 0.6896875 - 0.704125 with probability 0.464\n"
     ]
    }
   ],
   "source": [
    "peak_index = likelihoods.argmax()\n",
    "start_index, end_index = (peak_index - 1, peak_index + 2)\n",
    "area = likelihoods[start_index: end_index + 1].sum() * bin_width\n",
    "range_start, range_end = bin_edges[start_index], bin_edges[end_index]\n",
    "range_string = f\"{range_start} - {range_end}\"\n",
    "print(f\"Sampled frequency falls within interval {range_string} with probability {area}\")"
   ]
  },
  {
   "cell_type": "markdown",
   "metadata": {},
   "source": [
    "**Listing 3. 28. Computing a high confidence interval**\n",
    "\n",
    "These three bins represent what statisticians call a 46.4% **confidence interval**. Ideally, we’d prefer a confidence interval of 95% or more. We’ll reach that confidence interval by iteratively expanding our left-most bin and right-most bin until the interval area stretches past 0.95.\n",
    "\n",
    "> 现在X值(10次投硬币正面向上次数频率)落在[0.6896875,0.704125]的置信度为46.4%，仍然不够，我们通常希望置信度达到95%</br>\n",
    "> \n",
    "> 下面代码：从概率最高的柱子开始、逐渐向两侧扩展，直到置信度达到95%</br>"
   ]
  },
  {
   "cell_type": "code",
   "execution_count": 76,
   "metadata": {},
   "outputs": [
    {
     "name": "stdout",
     "output_type": "stream",
     "text": [
      "The frequency range 0.670438 - 0.723375 represents a 95.40% confidence interval\n"
     ]
    },
    {
     "data": {
      "text/plain": [
       "(3, 14)"
      ]
     },
     "execution_count": 76,
     "metadata": {},
     "output_type": "execute_result"
    }
   ],
   "source": [
    "def compute_high_confidence_interval(likelihoods, bin_width):\n",
    "    peak_index = likelihoods.argmax()\n",
    "    area = likelihoods[peak_index] * bin_width\n",
    "    start_index, end_index = peak_index, peak_index + 1\n",
    "    while area < 0.95:\n",
    "        if start_index > 0:\n",
    "            start_index -= 1\n",
    "        if end_index < likelihoods.size - 1:\n",
    "            end_index += 1\n",
    "\n",
    "        area = likelihoods[start_index: end_index + 1].sum() * bin_width\n",
    "    \n",
    "    range_start, range_end = bin_edges[start_index], bin_edges[end_index]\n",
    "    range_string = f\"{range_start:.6f} - {range_end:.6f}\"\n",
    "    print((f\"The frequency range {range_string} represents a \"\n",
    "           f\"{100 * area:.2f}% confidence interval\"))\n",
    "    return start_index, end_index\n",
    "\n",
    "compute_high_confidence_interval(likelihoods, bin_width)"
   ]
  },
  {
   "cell_type": "markdown",
   "metadata": {},
   "source": [
    "From our analysis, we’re fairly confident that the true probability lies somewhere between 0.670 and 0.723."
   ]
  },
  {
   "cell_type": "markdown",
   "metadata": {},
   "source": [
    "### 3.2.3. Shrinking the Range of a High Confidence Interval\n",
    "\n",
    "**Listing 3. 29. Sampling 100,000 frequencies**\n",
    "\n",
    "How can we taper down our range while still maintaining a 95% confidence interval? Perhaps we should try elevating the frequency count from 500 to 100,000.\n",
    "\n",
    "> 前面的代码中，得到的95%置信区间的X轴(1000次投硬币、正面向上的频率)的区间段为[0.670, 0.723]\n",
    "> \n",
    "> 这个区间段仍然有点宽，如果我们想缩短这个区间段，还如何做的？\n",
    "> \n",
    "> <b>将500轮1000次投硬币、改为10000轮</b>\n",
    "> \n",
    "> 下面是代码"
   ]
  },
  {
   "cell_type": "code",
   "execution_count": 115,
   "metadata": {},
   "outputs": [],
   "source": [
    "# 固定random seed\n",
    "np.random.seed(0)\n",
    "# 10000轮贝努力实验（投硬币），每轮投硬币1000次\n",
    "head_count_array = np.random.binomial(1000, 0.7, 100000)\n",
    "# 计算出每一轮正面向上的频率\n",
    "frequency_array = head_count_array / 1000\n",
    "# 一共有10000轮\n",
    "assert frequency_array.size == 100000"
   ]
  },
  {
   "cell_type": "markdown",
   "metadata": {},
   "source": [
    "**Listing 3. 30. Coloring histogram bars over an interval**\n",
    "\n",
    "We will re-compute the histogram on the updated `frequency_array`. Afterwards, we’ll visualize that histogram while also searching for a high confidence interval. Lets incorporate the confidence interval into our visualization by coloring the histogram bars within its range.\n"
   ]
  },
  {
   "cell_type": "code",
   "execution_count": 78,
   "metadata": {},
   "outputs": [
    {
     "name": "stdout",
     "output_type": "stream",
     "text": [
      "The frequency range 0.670429 - 0.727857 represents a 95.42% confidence interval\n"
     ]
    },
    {
     "data": {
      "image/png": "[encoded data removed]",
      "text/plain": [
       "<Figure size 432x288 with 1 Axes>"
      ]
     },
     "metadata": {
      "needs_background": "light"
     },
     "output_type": "display_data"
    }
   ],
   "source": [
    "# 计算相对likelyhood以便让柱面下面积为1（density=True）\n",
    "likelihoods, bin_edges, patches = plt.hist(frequency_array, bins='auto', edgecolor='black', density=True)\n",
    "# 每根柱子的宽度\n",
    "bin_width = bin_edges[1] - bin_edges[0]\n",
    "# 用上面定义的函数，从最高的柱子开始逐渐向两侧扩展，直到达到95%的置信度\n",
    "start_index, end_index = compute_high_confidence_interval(likelihoods, bin_width)\n",
    "\n",
    "# 将95%置信度区间内的柱子标记为黄色\n",
    "for i in range(start_index, end_index):\n",
    "     patches[i].set_facecolor('yellow')\n",
    "\n",
    "# X轴Y轴标签\n",
    "plt.xlabel('Binned Frequency')\n",
    "plt.ylabel('Relative Likelihood')\n",
    "\n",
    "plt.show()"
   ]
  },
  {
   "cell_type": "markdown",
   "metadata": {},
   "source": [
    "**Listing 3. 31. Sampling 5 billion flipped coins**\n",
    "\n",
    "The new frequency range is nearly identical to the one we saw before. Raising the sampling size\n",
    "from 500 to 100,000 appears to have done little to reduce the range. Perhaps we should’ve also raised the number of coin-flips per frequency-sample.  Lets increase this value 50-fold to 50,000 coin-flips per sampled frequency.\n",
    "\n",
    "> 前面的代码（将轮次由500轮改为10000轮），发现95%置信区间变化不大，效果不佳\n",
    ">\n",
    "> 这次我们尝试将每轮1000次投硬币、改为50000次投硬币，代码如下："
   ]
  },
  {
   "cell_type": "code",
   "execution_count": 79,
   "metadata": {},
   "outputs": [
    {
     "name": "stdout",
     "output_type": "stream",
     "text": [
      "The frequency range 0.695769 - 0.703708 represents a 95.06% confidence interval\n"
     ]
    },
    {
     "data": {
      "image/png": "[encoded data removed]",
      "text/plain": [
       "<Figure size 432x288 with 1 Axes>"
      ]
     },
     "metadata": {
      "needs_background": "light"
     },
     "output_type": "display_data"
    }
   ],
   "source": [
    "# 固定Random Seed\n",
    "np.random.seed(0)\n",
    "# 100000轮贝努力实验、每一轮投硬币50000次 \n",
    "head_count_array = np.random.binomial(50000, 0.7, 100000)\n",
    "# 每一轮正面向上的频率\n",
    "frequency_array = head_count_array / 50000\n",
    "\n",
    "# 计算轮数的相对likelyhood以便让柱面下面积为1（density=True）\n",
    "likelihoods, bin_edges, patches = plt.hist(frequency_array, bins='auto', edgecolor='black', density=True)\n",
    "# 计算柱子宽度\n",
    "bin_width = bin_edges[1] - bin_edges[0]\n",
    "# 计算95%置信区间下，X轴（1轮实验中正面向上频率）所在的区间段\n",
    "# 用前面定义的函数，从轮数（Y轴、轮数的相对likelyhood）最高的柱子开始，逐渐向两侧扩展，直到置信度达到95%\n",
    "start_index, end_index = compute_high_confidence_interval(likelihoods, bin_width)\n",
    "\n",
    "# 95%置信区间的柱子标记为黄色\n",
    "for i in range(start_index, end_index):\n",
    "     patches[i].set_facecolor('yellow')\n",
    "        \n",
    "# 坐标轴Label\n",
    "plt.xlabel('Binned Frequency')\n",
    "plt.ylabel('Relative Likelihood')\n",
    "\n",
    "plt.show()"
   ]
  },
  {
   "cell_type": "markdown",
   "metadata": {},
   "source": [
    "The new 95.06% confidence interval covers a frequency range of roughly 0.695 - 0.703. We are thus exceedingly confident that our true probability is approximately 0.70.\n",
    "\n",
    "> 这次X轴95%置信度区间段由之前的 [0.670, 0.728] 缩小为 [0.695, 0.703]"
   ]
  },
  {
   "cell_type": "markdown",
   "metadata": {},
   "source": [
    "### 3.2.4. Computing Histograms in NumPy\n",
    "\n",
    "**Listing 3. 32. Computing a histogram using `np.histogram`**\n",
    "\n",
    "Calling the `plt.hist` method will automatically generate a histogram plot. Can we obtain the histogram likelihoods and bin-edges without creating a plot? Yes; we simply need to call `np.histogram.`\n",
    "\n",
    "> `plt.hist`会绘一张柱状图，如果不需要柱状图，可以使用`np.histogram.`，下面是例子"
   ]
  },
  {
   "cell_type": "code",
   "execution_count": 116,
   "metadata": {},
   "outputs": [
    {
     "name": "stdout",
     "output_type": "stream",
     "text": [
      "The frequency range 0.670429 - 0.727857 represents a 95.42% confidence interval\n"
     ]
    },
    {
     "data": {
      "text/plain": [
       "(46, 113)"
      ]
     },
     "execution_count": 116,
     "metadata": {},
     "output_type": "execute_result"
    }
   ],
   "source": [
    "# 固定随机数seed\n",
    "np.random.seed(0)\n",
    "# 用`np.histogram`计算实验正面向上频率所覆盖轮次的相对likehoods（density=True，为了使柱面下面积为1）\n",
    "likelihoods, bin_edges = np.histogram(frequency_array, bins='auto', density=True)\n",
    "# 计算柱子宽度\n",
    "bin_width = bin_edges[1] - bin_edges[0]\n",
    "# 计算95%置信区间下，正面向上频率的区间段\n",
    "compute_high_confidence_interval(likelihoods, bin_width)"
   ]
  },
  {
   "cell_type": "markdown",
   "metadata": {},
   "source": [
    "## 3.3. Leveraging Confidence Intervals to Analyze a Biased Deck of Cards\n",
    "\n",
    "**Listing 3. 33,34. Generating a random red and black card count**\n",
    "\n",
    "Lets model a deck containing a hidden quantity of red cards. The total size of that deck is 52. The number of red cards in the deck is some unknown integer between zero and 52. We'll generate that integer using the `np.random.randint` method.\n",
    "\n",
    "> 回到CaseStudy开头的纸牌问题，生成随机数`red_card_count`，`black_card_count`代表红牌、黑牌的数量\n",
    "> \n",
    "> 他们的和为52，并且我们不希望两种牌的数量相等，这样可以演示有偏估计的使用"
   ]
  },
  {
   "cell_type": "code",
   "execution_count": 120,
   "metadata": {},
   "outputs": [],
   "source": [
    "np.random.seed(0)\n",
    "total_cards = 52\n",
    "red_card_count = np.random.randint(0, total_cards + 1) # red_card_count: [0, 52]之间的一个随机数\n",
    "black_card_count = total_cards - red_card_count # black_card_count:  52 - red_card_count\n",
    "assert black_card_count != red_card_count # 不希望两种牌的数量相等，这样可以演示有偏估计的使用"
   ]
  },
  {
   "cell_type": "markdown",
   "metadata": {},
   "source": [
    "**Listing 3. 35. Computing card probabilities using a sample space**\n",
    "\n",
    "What is the probability that the first card will be red? Well, our card deck is biased, and the outcomes are not equally likely. Thus, a weighted sample space dictionary is required to compute the probability.\n",
    "\n",
    "> 用红、黑卡牌数量作为权重，构造带权重的`样本空间`（`Sample Space`）\n",
    "> \n",
    "> 计算`事件条件`（`Event Condition`）红色卡牌的概率"
   ]
  },
  {
   "cell_type": "code",
   "execution_count": 119,
   "metadata": {},
   "outputs": [
    {
     "name": "stdout",
     "output_type": "stream",
     "text": [
      "0.8461538461538461\n"
     ]
    }
   ],
   "source": [
    "weighted_sample_space = {\n",
    "                                     'red_card': red_card_count, \n",
    "                                     'black_card': black_card_count}\n",
    "prob_red = compute_event_probability(\n",
    "                                     lambda x: x == 'red_card',\n",
    "                                     weighted_sample_space)\n",
    "print(prob_red)"
   ]
  },
  {
   "cell_type": "markdown",
   "metadata": {},
   "source": [
    "**Listing 3. 36. Computing card probabilities using division**\n",
    "\n",
    "Also, we can easily show that the probability of drawing a red card is equal to `red_card_count` divided by `total_cards`.\n",
    "\n",
    "> 检查：该概率值与卡牌数占比相同"
   ]
  },
  {
   "cell_type": "code",
   "execution_count": 84,
   "metadata": {},
   "outputs": [],
   "source": [
    "assert prob_red == red_card_count / total_cards"
   ]
  },
  {
   "cell_type": "markdown",
   "metadata": {},
   "source": [
    "**Listing 3. 37. Simulating a random card**\n",
    "\n",
    "We'll utilize `prob_red` to model a flipped-over first card using the Binomial distribution.\n",
    "\n",
    "> 得到了卡牌是红色的概率，就可以模拟单重贝努力试验（抽取1张卡牌）"
   ]
  },
  {
   "cell_type": "code",
   "execution_count": 85,
   "metadata": {},
   "outputs": [
    {
     "name": "stdout",
     "output_type": "stream",
     "text": [
      "The first card in the shuffled deck is red\n"
     ]
    }
   ],
   "source": [
    "np.random.seed(0)\n",
    "color = 'red' if np.random.binomial(1, prob_red) else 'black'\n",
    "print(f\"The first card in the shuffled deck is {color}\")"
   ]
  },
  {
   "cell_type": "markdown",
   "metadata": {},
   "source": [
    "**Listing 3. 38. Simulating 10 random cards**\n",
    "\n",
    "We’ll proceed to shuffle the deck 10 times, and flip over the first card after each shuffle.\n",
    "\n",
    "> 模拟10重贝努力试验（抽取10张卡牌），其中有8次是红牌"
   ]
  },
  {
   "cell_type": "code",
   "execution_count": 86,
   "metadata": {},
   "outputs": [
    {
     "name": "stdout",
     "output_type": "stream",
     "text": [
      "In 8 of out 10 shuffles, a red card came up first.\n"
     ]
    }
   ],
   "source": [
    "np.random.seed(0)\n",
    "red_count = np.random.binomial(10, prob_red)\n",
    "print(f\"In {red_count} of out 10 shuffles, a red card came up first.\")"
   ]
  },
  {
   "cell_type": "markdown",
   "metadata": {},
   "source": [
    "**Listing 3. 39. Computing card-probability confidence intervals**\n",
    "\n",
    "Lets now shuffle now shuffle the deck 50,000 times. Afterwards, lets compute the frequency and then re-do the shuffling procedure another 100,000 times. We use the resulting frequencies to compute a 95% confidence interval for flipping over a red card.\n",
    "\n",
    "> 洗牌50000次，计算Frequency；如此重复100000次；计算95%置信度下、抽到红牌的概率区间段"
   ]
  },
  {
   "cell_type": "code",
   "execution_count": 87,
   "metadata": {},
   "outputs": [
    {
     "name": "stdout",
     "output_type": "stream",
     "text": [
      "The frequency range 0.842865 - 0.849139 represents a 95.16% confidence interval\n"
     ]
    }
   ],
   "source": [
    "# 固定Radom Seed\n",
    "np.random.seed(0)\n",
    "\n",
    "# 100000轮贝努力实验，每轮抽取卡牌50000次\n",
    "red_card_count_array = np.random.binomial(50000, prob_red, 100000) \n",
    "\n",
    "# 每一轮红色卡牌的频率 = 红色卡牌数量 / 抽取总次数\n",
    "frequency_array = red_card_count_array / 50000\n",
    "\n",
    "# 计算Y轴的相对Likelyhoods（频率跨度所覆盖红牌数量的相对Likehoods值），柱体在X轴的区间跨度（一轮抽取中抽到红牌的频率跨度）\n",
    "# 将覆盖轮数转成相对Likelyhoods，可以使得柱状图总面积为1.0\n",
    "likelihoods, bin_edges = np.histogram(frequency_array, bins='auto', \n",
    "                                      density=True)\n",
    "bin_width = bin_edges[1] - bin_edges[0]\n",
    "\n",
    "# 计算95%置信度下，X轴的区间跨度\n",
    "start_index, end_index = compute_high_confidence_interval(likelihoods, bin_width) "
   ]
  },
  {
   "cell_type": "markdown",
   "metadata": {},
   "source": [
    "**Listing 3. 40. Estimating the red card count**\n",
    "\n",
    "We are highly confident that red_card_count lies between `0.842865 * total_cards` and `0.849139 *\n",
    "total_cards`. Let’s compute the likely range of `red_card_count`.\n",
    "\n",
    "> 根据相对LikeHoods计算红牌数量，为44"
   ]
  },
  {
   "cell_type": "code",
   "execution_count": 88,
   "metadata": {},
   "outputs": [
    {
     "name": "stdout",
     "output_type": "stream",
     "text": [
      "The number of red cards in the deck is between 44 and 44\n"
     ]
    }
   ],
   "source": [
    "range_start = round(0.842865 * total_cards)\n",
    "range_end = round(0.849139 * total_cards)\n",
    "print(f\"The number of red cards in the deck is between {range_start} and {range_end}\")"
   ]
  },
  {
   "cell_type": "markdown",
   "metadata": {},
   "source": [
    "**Listing 3. 41. Validating the red card count**\n",
    "\n",
    "We are very confident that there are 44 red cards in the deck. Lets check if our solution is\n",
    "correct."
   ]
  },
  {
   "cell_type": "code",
   "execution_count": 121,
   "metadata": {},
   "outputs": [
    {
     "name": "stdout",
     "output_type": "stream",
     "text": [
      "We are correct! There are 44 red cards in the deck\n"
     ]
    }
   ],
   "source": [
    "if red_card_count == 44:\n",
    "    print('We are correct! There are 44 red cards in the deck')\n",
    "else:\n",
    "    print('Oops! Our sampling estimation was wrong.')"
   ]
  },
  {
   "cell_type": "markdown",
   "metadata": {},
   "source": [
    "## 3.4. Using Permutations to Shuffle Cards\n",
    "\n",
    "**Listing 3. 42. Shuffling a 4-card deck**\n",
    "\n",
    "Card-shuffling requires us to randomly re-order the elements of a card-deck. That random\n",
    "re-ordering can be carried out using the `np.random.shuffle` method.\n",
    "\n",
    "> 通过`np.random.shuffle`来洗牌（会更改原`ndarray`）"
   ]
  },
  {
   "cell_type": "code",
   "execution_count": 90,
   "metadata": {},
   "outputs": [
    {
     "name": "stdout",
     "output_type": "stream",
     "text": [
      "[0, 0, 1, 1]\n"
     ]
    }
   ],
   "source": [
    "np.random.seed(0)\n",
    "card_deck = [1, 1, 0, 0]\n",
    "np.random.shuffle(card_deck)\n",
    "print(card_deck)"
   ]
  },
  {
   "cell_type": "markdown",
   "metadata": {},
   "source": [
    "If we prefer to carry out the shuffle while retaining a copy of the original unshuffled deck, we can do so using\n",
    "`np.random.permutation`.\n",
    "\n",
    "**Listing 3. 43. Returning a copy of the shuffled deck**\n",
    "\n",
    "> 通过`np.random.permutation`来返回一个洗牌后的`ndarray`（原`ndarray`保持不变）"
   ]
  },
  {
   "cell_type": "code",
   "execution_count": 91,
   "metadata": {},
   "outputs": [
    {
     "name": "stdout",
     "output_type": "stream",
     "text": [
      "[0 0 1 1]\n"
     ]
    }
   ],
   "source": [
    "np.random.seed(0)\n",
    "unshuffled_deck = [1, 1, 0, 0]\n",
    "shuffled_deck = np.random.permutation(unshuffled_deck)\n",
    "assert unshuffled_deck == [1, 1, 0, 0]\n",
    "print(shuffled_deck)"
   ]
  },
  {
   "cell_type": "markdown",
   "metadata": {},
   "source": [
    "**Listing 3. 44. Iterating over card permutations**\n",
    "\n",
    "The random ordering of elements returned by `np.random.permutation` is mathematically called a **permutation**. Calling `itertools.permutations(unshuffled_deck)` will return an iterable over every possible permutation of the deck.\n",
    "\n",
    "> 用`itertools.permutations(unshuffled_deck)`来遍历各种可能的排列"
   ]
  },
  {
   "cell_type": "code",
   "execution_count": 92,
   "metadata": {},
   "outputs": [
    {
     "name": "stdout",
     "output_type": "stream",
     "text": [
      "(1, 1, 0, 0)\n",
      "(1, 1, 0, 0)\n",
      "(1, 0, 1, 0)\n"
     ]
    }
   ],
   "source": [
    "import itertools\n",
    "for permutation in list(itertools.permutations(unshuffled_deck))[:3]:\n",
    "    print(permutation)"
   ]
  },
  {
   "cell_type": "markdown",
   "metadata": {},
   "source": [
    "**Listing 3. 45. Monitoring permutation swaps**\n",
    "\n",
    "The first 2 generated permutations are identical to each other, because identical zeros were swapped by the permutation function. We can confirm the swap actually took place by examining the first three permutations of [0, 1, 2, 3].\n",
    "\n",
    "> 换一个输入[0,1,2,3]来解释之前输入[1,1,0,0]时为何返回的前两个排列是重复的"
   ]
  },
  {
   "cell_type": "code",
   "execution_count": 93,
   "metadata": {},
   "outputs": [
    {
     "name": "stdout",
     "output_type": "stream",
     "text": [
      "(0, 1, 2, 3)\n",
      "(0, 1, 3, 2)\n",
      "(0, 2, 1, 3)\n"
     ]
    }
   ],
   "source": [
    "for permutation in list(itertools.permutations([0, 1, 2, 3]))[:3]:\n",
    "    print(permutation)"
   ]
  },
  {
   "cell_type": "markdown",
   "metadata": {},
   "source": [
    "**Listing 3. 46. Computing permutation counts**\n",
    "\n",
    "Certain permutations of the 4-card deck occur more than once.  Let’s store these permutation counts within a `weighted_sample_space` dictionary.\n",
    "\n",
    "> 用每种排列出现的次数作为权重，来构造一个各种排列的`带权重的样本空间`（`Weighted Sample Space`）"
   ]
  },
  {
   "cell_type": "code",
   "execution_count": 94,
   "metadata": {},
   "outputs": [
    {
     "name": "stdout",
     "output_type": "stream",
     "text": [
      "Permutation (1, 1, 0, 0) occurs 4 times\n",
      "Permutation (1, 0, 1, 0) occurs 4 times\n",
      "Permutation (1, 0, 0, 1) occurs 4 times\n",
      "Permutation (0, 1, 1, 0) occurs 4 times\n",
      "Permutation (0, 1, 0, 1) occurs 4 times\n",
      "Permutation (0, 0, 1, 1) occurs 4 times\n"
     ]
    }
   ],
   "source": [
    "weighted_sample_space = defaultdict(int)\n",
    "for permutation in itertools.permutations(unshuffled_deck):\n",
    "    weighted_sample_space[permutation] += 1\n",
    "\n",
    "for permutation, count in weighted_sample_space.items():\n",
    "    print(f\"Permutation {permutation} occurs {count} times\")"
   ]
  },
  {
   "cell_type": "markdown",
   "metadata": {},
   "source": [
    "All the permutations occur with equal frequency. Consequently, an unweighted sample space should be sufficient to compute permutation probabilities.\n",
    "\n",
    "> 发现各种排列出现的次数都相同 ，因此用无权重的样本空间已经足够；下面计算每种排列的出现概率，为0.16666666666666666"
   ]
  },
  {
   "cell_type": "code",
   "execution_count": 95,
   "metadata": {},
   "outputs": [
    {
     "name": "stdout",
     "output_type": "stream",
     "text": [
      "Probability that a shuffle does not alter the deck is 0.16666666666666666\n"
     ]
    }
   ],
   "source": [
    "sample_space = set(itertools.permutations(unshuffled_deck)) \n",
    "event_condition = lambda x: list(x) == unshuffled_deck \n",
    "prob = compute_event_probability(event_condition, sample_space) \n",
    "assert prob == 1 / len(sample_space)\n",
    "print(f\"Probability that a shuffle does not alter the deck is {prob}\")"
   ]
  },
  {
   "cell_type": "markdown",
   "metadata": {},
   "source": [
    "**Listing 3. 48. Computing a 10-card sample space**\n",
    "\n",
    "We can compute probabilities directly from the unweighted sample. Unfortunately, creating this sample space is not feasible for a deck of 52 cards. However, such a sample space could easily be computed for smaller deck of size 10.\n",
    "\n",
    "> 52张排各种排列的样本空间计算量巨大很难计算，但是10张牌还是可以计算"
   ]
  },
  {
   "cell_type": "code",
   "execution_count": 96,
   "metadata": {},
   "outputs": [
    {
     "name": "stdout",
     "output_type": "stream",
     "text": [
      "Sample space for a 10-card deck contains 252 elements\n"
     ]
    }
   ],
   "source": [
    "red_cards = 5 * [1]\n",
    "black_cards = 5 * [0]\n",
    "unshuffled_deck = red_cards + black_cards\n",
    "sample_space = set(itertools.permutations(unshuffled_deck))\n",
    "print(f\"Sample space for a 10-card deck contains {len(sample_space)} elements\")"
   ]
  },
  {
   "cell_type": "markdown",
   "metadata": {},
   "source": [
    "# 4. Case Study 1 Solution\n",
    "##  4.1. Overview\n",
    "Our aim is to play a card-game in which the cards are iteratively flipped until we tell the\n",
    "dealer to stop. Afterwards, one additional card is flipped. If that card is red, we win a dollar.\n",
    "Otherwise, we lose a dollar.\n",
    "\n",
    "> 游戏规则：\n",
    "> \n",
    "> 52张纸牌、一半红牌一半黑牌。</br>\n",
    "> 每一轮游戏中：</br>\n",
    "> (1) 洗牌，洗牌之后牌背面向上</br>\n",
    "> (2) 对方一次翻开一张牌，我方可以决定是否停止。</br>\n",
    "> (3) 当我方喊停后，对方最后一次翻牌：翻开的牌是红色，我方赢1美元；翻开的牌是黑色，我方输1美元。</br>\n",
    "> 结算筹码后游戏进入下一轮</br>\n",
    ">\n",
    "> 该游戏可以玩任意多轮，我方的最佳策略是什么？\n",
    "\n",
    "\n",
    "## 4.2. Predicting Red Cards within a Shuffled Deck\n",
    "We’ll start by creating a deck holding 26 red cards and 26 black cards. Black cards are\n",
    "represented by zeroes and red cards are represented by ones.\n",
    "\n",
    "> 先从红牌黑牌数量相等的情况开始（26张红牌、26张黑牌）\n",
    "\n",
    "**Listing 4. 1. Modeling a 52-card deck**\n",
    "\n",
    "> 初始化52张牌，26红、26黑"
   ]
  },
  {
   "cell_type": "code",
   "execution_count": 97,
   "metadata": {},
   "outputs": [],
   "source": [
    "red_cards = 26 * [1]\n",
    "black_cards = 26 * [0]\n",
    "unshuffled_deck = red_cards + black_cards"
   ]
  },
  {
   "cell_type": "markdown",
   "metadata": {},
   "source": [
    "We’ll proceed to shuffle the deck.\n",
    "\n",
    "**Listing 4. 2. Shuffling a 52-card deck**\n",
    "\n",
    "> 洗牌"
   ]
  },
  {
   "cell_type": "code",
   "execution_count": 98,
   "metadata": {},
   "outputs": [],
   "source": [
    "np.random.seed(0)\n",
    "shuffled_deck = np.random.permutation(unshuffled_deck)"
   ]
  },
  {
   "cell_type": "markdown",
   "metadata": {},
   "source": [
    "**Listing 4. 3. Coding a card-game strategy**\n",
    "\n",
    "Now we’ll iteratively flip over the cards within the deck, stopping when the the number of red cards remaining in the deck is greater than the number of black cards remaining in the deck.\n",
    "\n",
    "> 游戏策略1：依次让对方翻开桌面的牌，直到下一张红牌概率大于0.5时喊停"
   ]
  },
  {
   "cell_type": "code",
   "execution_count": 124,
   "metadata": {},
   "outputs": [
    {
     "name": "stdout",
     "output_type": "stream",
     "text": [
      "Stopping the game at index 1.\n",
      "The next card in the deck is red.\n",
      "We have won!\n"
     ]
    }
   ],
   "source": [
    "# 剩余红牌数初始值26\n",
    "remaining_red_cards = 26\n",
    "# 每次翻开一张牌\n",
    "for i, card in enumerate(shuffled_deck[:-1]):\n",
    "    # 如果card=1（1为红牌，0为黑牌），剩余红牌数减1\n",
    "    remaining_red_cards -= card\n",
    "    # 剩余总牌数减1\n",
    "    remaining_total_cards = 52 - i\n",
    "    # 剩余红牌数 / 剩余总拍数 > 0.5时喊停\n",
    "    if remaining_red_cards / remaining_total_cards > 0.5:\n",
    "        break\n",
    "\n",
    "print(f\"Stopping the game at index {i}.\")\n",
    "final_card = shuffled_deck[i + 1]\n",
    "color = 'red' if final_card else 0\n",
    "print(f\"The next card in the deck is {'red' if final_card else 'black'}.\")\n",
    "print(f\"We have {'won' if final_card else 'lost'}!\")"
   ]
  },
  {
   "cell_type": "markdown",
   "metadata": {},
   "source": [
    "**Listing 4. 4. Generalizing the card-game strategy**\n",
    "\n",
    "The strategy yielded a win on our very first try. Lets generalize this strategy to halt when the\n",
    "fraction of remaining red cards is greater than an inputted `min_red_fraction` parameter.\n",
    "\n",
    "> 游戏策略2：对策略1进行扩展，依次让对方翻开桌面的牌，当下一张红牌概率大于阈值`min_red_fraction`时喊停"
   ]
  },
  {
   "cell_type": "code",
   "execution_count": 125,
   "metadata": {},
   "outputs": [],
   "source": [
    "# 固定Random Seed\n",
    "np.random.seed(0)\n",
    "\n",
    "# 总牌数52，总红牌数26\n",
    "total_cards = 52\n",
    "total_red_cards = 26\n",
    "\n",
    "# 函数封装：\n",
    "# min_fraction_red： 红牌概率阈值\n",
    "# shuffled_deck：指定洗牌后的卡牌，为None时函数来洗牌\n",
    "# return_index: 为True时返回(next_index, next_card)，为False时返回next_card\n",
    "def execute_strategy(min_fraction_red=0.5, shuffled_deck=None, return_index=False):\n",
    "    # 洗牌后的卡牌\n",
    "    if shuffled_deck is None:\n",
    "        shuffled_deck = np.random.permutation(unshuffled_deck) \n",
    "    # 剩余的红牌数\n",
    "    remaining_red_cards = total_red_cards\n",
    "    # 每次翻开一张牌\n",
    "    for i, card in enumerate(shuffled_deck[:-1]):\n",
    "        # 如果是红牌(card=1)、剩余红牌数减一\n",
    "        remaining_red_cards -= card\n",
    "        # 剩余红牌占总牌数的比例\n",
    "        fraction_red_cards = remaining_red_cards / (total_cards - i)\n",
    "        # 剩余红牌大于阈值时停止翻牌\n",
    "        if fraction_red_cards > min_fraction_red:\n",
    "            break\n",
    "    # 返回\n",
    "    return (i+1, shuffled_deck[i+1]) if return_index else shuffled_deck[i+1] "
   ]
  },
  {
   "cell_type": "markdown",
   "metadata": {},
   "source": [
    "### 4.2.1. Estimating the Probability of Strategy Success\n",
    "\n",
    "**Listing 4. 5. Running strategy over 1000 shuffles**\n",
    "\n",
    "Lets apply our basic strategy to a series of 1000 random shuffles.\n",
    "\n",
    "> 将上面的游戏策略用在1000轮游戏上"
   ]
  },
  {
   "cell_type": "code",
   "execution_count": 101,
   "metadata": {},
   "outputs": [],
   "source": [
    "# 执行`execute_strategy()`会得到喊停后，翻出的下一张牌，是红牌则我方胜，否则对方胜\n",
    "observations = np.array([execute_strategy() for _ in range(1000)])"
   ]
  },
  {
   "cell_type": "markdown",
   "metadata": {},
   "source": [
    "**Listing 4. 6. Computing the frequency of wins**\n",
    "\n",
    "The total fraction of ones in observations corresponds to the observed fraction of red cards, and therefore to the fraction of wins. We can compute this fraction by calling `observations.mean()`.\n",
    "\n",
    "> 计算1000轮游戏中，我方获胜的频率，即获胜轮数/总轮数"
   ]
  },
  {
   "cell_type": "code",
   "execution_count": 102,
   "metadata": {},
   "outputs": [
    {
     "name": "stdout",
     "output_type": "stream",
     "text": [
      "The frequency of wins is 0.524\n"
     ]
    }
   ],
   "source": [
    "frequency_wins = observations.sum() / 1000\n",
    "assert frequency_wins == observations.mean()\n",
    "print(f\"The frequency of wins is {frequency_wins}\")"
   ]
  },
  {
   "cell_type": "markdown",
   "metadata": {},
   "source": [
    "**Listing 4. 7. Computing total profit**\n",
    "\n",
    "We’ve won 52.4 percent of total games! Our strategy appears to be working. 524 wins and 76 losses will net us a total profit of $48.\n",
    "\n",
    "> 计算总的利润：获胜赢得的金额 - 失败输掉的金额 \n",
    "> \n",
    "> 每轮获胜赢1美元，失败输1美元"
   ]
  },
  {
   "cell_type": "code",
   "execution_count": 103,
   "metadata": {},
   "outputs": [
    {
     "name": "stdout",
     "output_type": "stream",
     "text": [
      "Total profit is $48.0\n"
     ]
    }
   ],
   "source": [
    "dollars_won = frequency_wins * 1000\n",
    "dollars_lost = (1 - frequency_wins) * 1000\n",
    "total_profit = dollars_won - dollars_lost\n",
    "print(f\"Total profit is ${total_profit}\")"
   ]
  },
  {
   "cell_type": "markdown",
   "metadata": {},
   "source": [
    "**Listing 4. 8. Plotting simulated frequencies of wins**\n",
    "\n",
    "The strategy worked well for a sample size of 1000 shuffles. We’ll now plot the strategy’s win-frequency convergence over a series of sample sizes ranging from 1 to 10,000.\n",
    "\n",
    "> 之前是在1000轮游戏上做演示，接下来plot从1轮游戏到10000轮游戏，获胜概率是如何收敛的"
   ]
  },
  {
   "cell_type": "code",
   "execution_count": 104,
   "metadata": {},
   "outputs": [
    {
     "data": {
      "image/png": "[encoded data removed]",
      "text/plain": [
       "<Figure size 432x288 with 1 Axes>"
      ]
     },
     "metadata": {
      "needs_background": "light"
     },
     "output_type": "display_data"
    },
    {
     "name": "stdout",
     "output_type": "stream",
     "text": [
      "The win-frequency for 10,000 shuffles is 0.5135135135135135\n"
     ]
    }
   ],
   "source": [
    "np.random.seed(0)\n",
    "def repeat_game(number_repeats):\n",
    "    observations = np.array([execute_strategy()\n",
    "                             for _ in range(number_repeats)])\n",
    "    return observations.mean()\n",
    "\n",
    "frequencies = []\n",
    "for i in range(1, 1000):\n",
    "    frequencies.append(repeat_game(i))\n",
    "\n",
    "plt.plot(list(range(1, 1000)), frequencies)\n",
    "plt.axhline(.5, color='k')\n",
    "plt.xlabel('Number of Card Shuffles')\n",
    "plt.ylabel('Win-Frequency')\n",
    "plt.show()\n",
    "print(f\"The win-frequency for 10,000 shuffles is {frequencies[-1]}\")"
   ]
  },
  {
   "cell_type": "markdown",
   "metadata": {},
   "source": [
    "Our strategy fluctuates above and below 50% through-out the entire sampling process. We'll need to compute a confidence interval to ensure that its win-rate is above 50%. We’ll compute the confidence interval by sampling 10,000 card-shuffles 300 times. Shuffling an array is a computationally expensive procedure. **The code below will take approximately 40 seconds to run. Hence, it has been commented out.**\n",
    "\n",
    "**Listing 4. 9. Computing the confidence interval for 3 million shuffles**"
   ]
  },
  {
   "cell_type": "code",
   "execution_count": 123,
   "metadata": {},
   "outputs": [
    {
     "name": "stdout",
     "output_type": "stream",
     "text": [
      "The frequency range 0.488687 - 0.510275 represents a 96.67% confidence interval\n"
     ]
    },
    {
     "data": {
      "image/png": "[encoded data removed]",
      "text/plain": [
       "<Figure size 432x288 with 1 Axes>"
      ]
     },
     "metadata": {
      "needs_background": "light"
     },
     "output_type": "display_data"
    }
   ],
   "source": [
    "\"\"\"\n",
    "np.random.seed(0)\n",
    "frequency_array = np.array([repeat_game(10000) for _ in range(300)])\n",
    "\n",
    "likelihoods, bin_edges, patches = plt.hist(frequency_array, bins='auto',\n",
    "                                           edgecolor='black', density=True)\n",
    "bin_width = bin_edges[1] - bin_edges[0]\n",
    "start_index, end_index = compute_high_confidence_interval(likelihoods, bin_width)\n",
    "\n",
    "for i in range(start_index, end_index):\n",
    "     patches[i].set_facecolor('yellow')\n",
    "plt.xlabel('Binned Frequency')\n",
    "plt.ylabel('Relative Likelihood')\n",
    "\n",
    "plt.show()\n",
    "\"\"\""
   ]
  },
  {
   "cell_type": "markdown",
   "metadata": {},
   "source": [
    "We can narrow the confidence interval by increasing the sample size, at the expense of running time. The code below will sample 50,000 shuffles over 3,000 iterations. **The code will take approximately one hour to run. Hence, it has been commented out.**\n",
    "\n",
    "**Listing 4. 10. Computing the confidence interval for 150 million shuffles**"
   ]
  },
  {
   "cell_type": "code",
   "execution_count": 122,
   "metadata": {},
   "outputs": [
    {
     "data": {
      "text/plain": [
       "\"\\nnp.random.seed(0)\\n\\nfrequency_array = np.array([repeat_game(50000) for _ in range(3000)])\\nlikelihoods, bin_edges = np.histogram(frequency_array, bins='auto',\\n                                      density=True)\\nbin_width = bin_edges[1] - bin_edges[0]\\ncompute_high_confidence_interval(likelihoods, bin_width)\\n\""
      ]
     },
     "execution_count": 122,
     "metadata": {},
     "output_type": "execute_result"
    }
   ],
   "source": [
    "\"\"\"\n",
    "np.random.seed(0)\n",
    "\n",
    "frequency_array = np.array([repeat_game(50000) for _ in range(3000)])\n",
    "likelihoods, bin_edges = np.histogram(frequency_array, bins='auto',\n",
    "                                      density=True)\n",
    "bin_width = bin_edges[1] - bin_edges[0]\n",
    "compute_high_confidence_interval(likelihoods, bin_width)\n",
    "\"\"\""
   ]
  },
  {
   "cell_type": "markdown",
   "metadata": {},
   "source": [
    "We can also `min_red_fraction` from 0.5 to 0.75 and repeat the confidence interval calculation process. **As before, the code will take approximately one hour to run. Hence, it has been commented out.**\n",
    "\n",
    "**Listing 4. 11. Computing the confidence interval for an updated strategy**"
   ]
  },
  {
   "cell_type": "code",
   "execution_count": 107,
   "metadata": {},
   "outputs": [
    {
     "data": {
      "text/plain": [
       "\"\\nnp.random.seed(0)\\ndef repeat_game(number_repeats, min_red_fraction):\\n    observations = np.array([execute_strategy(min_red_fraction)\\n                            for _ in range(number_repeats)])\\n    return observations.mean()\\n\\nfrequency_array = np.array([repeat_game(50000, 0.75) for _ in range(3000)])\\nlikelihoods, bin_edges = np.histogram(frequency_array, bins='auto',\\n                                      density=True)\\nbin_width = bin_edges[1] - bin_edges[0]\\ncompute_high_confidence_interval(likelihoods, bin_width)\\n\""
      ]
     },
     "execution_count": 107,
     "metadata": {},
     "output_type": "execute_result"
    }
   ],
   "source": [
    "\"\"\"\n",
    "np.random.seed(0)\n",
    "def repeat_game(number_repeats, min_red_fraction):\n",
    "    observations = np.array([execute_strategy(min_red_fraction)\n",
    "                            for _ in range(number_repeats)])\n",
    "    return observations.mean()\n",
    "\n",
    "frequency_array = np.array([repeat_game(50000, 0.75) for _ in range(3000)])\n",
    "likelihoods, bin_edges = np.histogram(frequency_array, bins='auto',\n",
    "                                      density=True)\n",
    "bin_width = bin_edges[1] - bin_edges[0]\n",
    "compute_high_confidence_interval(likelihoods, bin_width)\n",
    "\"\"\""
   ]
  },
  {
   "cell_type": "markdown",
   "metadata": {},
   "source": [
    "## 4.3. Optimizing Strategies using the Sample Space for a 10-Card Deck\n",
    "The code below computes the sample space for a 10-card deck. Afterwards, it applies our\n",
    "basic strategy to that sample space. Its output is the probability of a win.\n",
    "\n",
    "**Listing 4. 12. Applying a basic strategy to a 10-card deck**"
   ]
  },
  {
   "cell_type": "code",
   "execution_count": 108,
   "metadata": {},
   "outputs": [
    {
     "name": "stdout",
     "output_type": "stream",
     "text": [
      "Probability of a win is 0.5\n"
     ]
    }
   ],
   "source": [
    "total_cards = 10\n",
    "total_red_cards = int(total_cards / 2)\n",
    "total_black_cards = total_red_cards\n",
    "unshuffled_deck = [1] * total_red_cards + [0] * total_black_cards\n",
    "sample_space = set(itertools.permutations(unshuffled_deck))\n",
    "win_condition = lambda x: execute_strategy(shuffled_deck=np.array(x)) \n",
    "prob_win = compute_event_probability(win_condition, sample_space)\n",
    "print(f\"Probability of a win is {prob_win}\")"
   ]
  },
  {
   "cell_type": "markdown",
   "metadata": {},
   "source": [
    "Surprisingly, our basic strategy yields a win only 50% of the time. Lets compute the win-probabilities over a range\n",
    "of min_red_fraction values.\n",
    "\n",
    "**Listing 4. 13. Applying multiple strategies to a 10-card deck**"
   ]
  },
  {
   "cell_type": "code",
   "execution_count": 109,
   "metadata": {},
   "outputs": [
    {
     "name": "stdout",
     "output_type": "stream",
     "text": [
      "Lowest probability of win is 0.5\n",
      "Highest probability of win is 0.5\n"
     ]
    }
   ],
   "source": [
    "def scan_strategies():\n",
    "    fractions = [value / 100 for value in range(50, 100)]\n",
    "    probabilities = []\n",
    "    for frac in fractions:\n",
    "        win_condition = lambda x: execute_strategy(frac,\n",
    "                                                   shuffled_deck=np.array(x))\n",
    "        probabilities.append(compute_event_probability(win_condition,\n",
    "                                                       sample_space))\n",
    "    return probabilities\n",
    "\n",
    "probabilities = scan_strategies()\n",
    "print(f\"Lowest probability of win is {min(probabilities)}\")\n",
    "print(f\"Highest probability of win is {max(probabilities)}\")"
   ]
  },
  {
   "cell_type": "markdown",
   "metadata": {},
   "source": [
    "Both the lowest and highest probabilities are equal to 0.5! Perhaps adjusting the deck size will yield some\n",
    "improvement. Let’s analyze the sample spaces of decks containing 2, 4, 6, and 8 cards.\n",
    "\n",
    "**Listing 4. 14. Applying multiple strategies to multiple decks**"
   ]
  },
  {
   "cell_type": "code",
   "execution_count": 110,
   "metadata": {},
   "outputs": [
    {
     "name": "stdout",
     "output_type": "stream",
     "text": [
      "No winning strategy found for deck of size 2\n",
      "No winning strategy found for deck of size 4\n",
      "No winning strategy found for deck of size 6\n",
      "No winning strategy found for deck of size 8\n"
     ]
    }
   ],
   "source": [
    "for total_cards in [2, 4, 6, 8]:\n",
    "    total_red_cards = int(total_cards / 2)\n",
    "    total_black_cards = total_red_cards\n",
    "    unshuffled_deck = [1] * total_red_cards + [0] * total_black_cards\n",
    "\n",
    "    sample_space = set(itertools.permutations(unshuffled_deck))\n",
    "    probabilities = scan_strategies()\n",
    "    if all(prob == 0.5 for prob in probabilities):\n",
    "        print(f\"No winning strategy found for deck of size {total_cards}\")\n",
    "    else:\n",
    "        print(f\"Winning strategy found for deck of size {total_cards}\")"
   ]
  },
  {
   "cell_type": "markdown",
   "metadata": {},
   "source": [
    "All of the strategies yield a probability of 0.5 across the small decks. Our strategies don’t work on a 10-card deck, and we have little reason to believe that they will work on a 52-card deck. To better understand why this is the case, we can re-run our simulations over a 52 card deck while plotting wins and losses relative to halting and non-halting scenarios.\n",
    "\n",
    "**Listing 4. 15. Plotting strategy outcomes across a 52-card deck**"
   ]
  },
  {
   "cell_type": "code",
   "execution_count": 111,
   "metadata": {},
   "outputs": [
    {
     "data": {
      "image/png": "[encoded data removed]",
      "text/plain": [
       "<Figure size 432x288 with 1 Axes>"
      ]
     },
     "metadata": {
      "needs_background": "light"
     },
     "output_type": "display_data"
    }
   ],
   "source": [
    "np.random.seed(0)\n",
    "total_cards = 52\n",
    "total_red_cards = 26\n",
    "unshuffled_deck = red_cards + black_cards\n",
    "\n",
    "def repeat_game_detailed(number_repeats, min_red_fraction):\n",
    "\n",
    "    observations = [execute_strategy(min_red_fraction, return_index=True)\n",
    "                    for _ in range(num_repeats)] \n",
    "    successes = [index for index, card, in observations if card == 1] \n",
    "    halt_success = len([index for index in successes if index != 51]) \n",
    "    no_halt_success = len(successes) - halt_success \n",
    "\n",
    "    failures = [index for index, card, in observations if card == 0] \n",
    "    halt_failure = len([index for index in failures if index != 51]) \n",
    "    no_halt_failure = len(failures) - halt_failure \n",
    "    result = [halt_success, halt_failure, no_halt_success, no_halt_failure]\n",
    "    return [r / number_repeats for r in result] \n",
    "\n",
    "fractions = [value / 100 for value in range(50, 100)]\n",
    "num_repeats = 50000\n",
    "result_types = [[], [], [], []]\n",
    "\n",
    "for fraction in fractions: \n",
    "    result = repeat_game_detailed(num_repeats, fraction)\n",
    "    for i in range(4):\n",
    "        result_types[i].append(result[i])\n",
    "\n",
    "plt.plot(fractions, result_types[0],\n",
    "         label='A) Strategy Halts. We Win.')\n",
    "plt.plot(fractions, result_types[1], linestyle='--',\n",
    "         label='B) Strategy Halts. We Lose.')\n",
    "plt.plot(fractions, result_types[2], linestyle=':',\n",
    "         label='C) No Halt. We Win.')\n",
    "plt.plot(fractions, result_types[3], linestyle='-.',\n",
    "         label='D) No Halt. We Lose.')\n",
    "plt.xlabel('min_red_fraction')\n",
    "plt.ylabel('Frequency')\n",
    "plt.legend()\n",
    "plt.show()"
   ]
  },
  {
   "cell_type": "markdown",
   "metadata": {},
   "source": [
    "The added frequencies of Scenarios A and B appear to fluctuate at around 0.5. No matter what we do, our likelihood of winning remains 50-50. Therefore, the most optimal strategy we can offer is to pick the first card in the shuffled deck.\n",
    "\n",
    "**Listing 4. 16. The most optimal winning strategy**"
   ]
  },
  {
   "cell_type": "code",
   "execution_count": 112,
   "metadata": {},
   "outputs": [],
   "source": [
    "def optimal_strategy(shuffled_deck):\n",
    "    return shuffled_deck[0]"
   ]
  }
 ],
 "metadata": {
  "kernelspec": {
   "display_name": "Python 3",
   "language": "python",
   "name": "python3"
  },
  "language_info": {
   "codemirror_mode": {
    "name": "ipython",
    "version": 3
   },
   "file_extension": ".py",
   "mimetype": "text/x-python",
   "name": "python",
   "nbconvert_exporter": "python",
   "pygments_lexer": "ipython3",
   "version": "3.7.2"
  }
 },
 "nbformat": 4,
 "nbformat_minor": 2
}
